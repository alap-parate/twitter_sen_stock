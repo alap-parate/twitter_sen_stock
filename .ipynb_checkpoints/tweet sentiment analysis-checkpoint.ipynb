{
 "cells": [
  {
   "cell_type": "code",
   "execution_count": 20,
   "id": "9fea6787",
   "metadata": {},
   "outputs": [],
   "source": [
    "import pandas as pd\n",
    "from nltk.corpus import stopwords\n",
    "from nltk.stem import PorterStemmer\n",
    "from nltk.tokenize import RegexpTokenizer\n",
    "from nltk.sentiment.vader import SentimentIntensityAnalyzer\n",
    "from nltk.stem import SnowballStemmer\n",
    "from nltk.sentiment.vader import SentimentIntensityAnalyzer\n",
    "import nltk\n",
    "from wordcloud import WordCloud\n",
    "import textblob as TextBlob\n",
    "from vaderSentiment.vaderSentiment import SentimentIntensityAnalyzer"
   ]
  },
  {
   "cell_type": "code",
   "execution_count": 35,
   "id": "d2b6f09f",
   "metadata": {},
   "outputs": [],
   "source": [
    "df = pd.read_csv(\"clean_data.csv\")"
   ]
  },
  {
   "cell_type": "code",
   "execution_count": 36,
   "id": "e73ad5c5",
   "metadata": {},
   "outputs": [
    {
     "data": {
      "text/html": [
       "<div>\n",
       "<style scoped>\n",
       "    .dataframe tbody tr th:only-of-type {\n",
       "        vertical-align: middle;\n",
       "    }\n",
       "\n",
       "    .dataframe tbody tr th {\n",
       "        vertical-align: top;\n",
       "    }\n",
       "\n",
       "    .dataframe thead th {\n",
       "        text-align: right;\n",
       "    }\n",
       "</style>\n",
       "<table border=\"1\" class=\"dataframe\">\n",
       "  <thead>\n",
       "    <tr style=\"text-align: right;\">\n",
       "      <th></th>\n",
       "      <th>tweet</th>\n",
       "      <th>time</th>\n",
       "    </tr>\n",
       "  </thead>\n",
       "  <tbody>\n",
       "    <tr>\n",
       "      <th>0</th>\n",
       "      <td>stock markets script ready for 2022 everything...</td>\n",
       "      <td>2022-01-01T05:08:15.000Z</td>\n",
       "    </tr>\n",
       "    <tr>\n",
       "      <th>1</th>\n",
       "      <td>to get rid of excessive greed always think for...</td>\n",
       "      <td>2022-01-01T05:08:15.000Z</td>\n",
       "    </tr>\n",
       "    <tr>\n",
       "      <th>2</th>\n",
       "      <td>lessons from 2021 stock market paisa acche equ...</td>\n",
       "      <td>2022-01-01T05:08:15.000Z</td>\n",
       "    </tr>\n",
       "    <tr>\n",
       "      <th>3</th>\n",
       "      <td>good morning my state of mind as per nifty lev...</td>\n",
       "      <td>2022-01-01T05:08:15.000Z</td>\n",
       "    </tr>\n",
       "    <tr>\n",
       "      <th>4</th>\n",
       "      <td>wishing you all very happy new year may this y...</td>\n",
       "      <td>2022-01-01T05:08:15.000Z</td>\n",
       "    </tr>\n",
       "    <tr>\n",
       "      <th>...</th>\n",
       "      <td>...</td>\n",
       "      <td>...</td>\n",
       "    </tr>\n",
       "    <tr>\n",
       "      <th>10278</th>\n",
       "      <td>a bouncing monday wont be bad</td>\n",
       "      <td>2022-01-30T23:56:47.000Z</td>\n",
       "    </tr>\n",
       "    <tr>\n",
       "      <th>10279</th>\n",
       "      <td>has failed to use captaincy to up his game sha...</td>\n",
       "      <td>2022-01-30T23:56:47.000Z</td>\n",
       "    </tr>\n",
       "    <tr>\n",
       "      <th>10280</th>\n",
       "      <td>fii leaving indian markets is being spammed by...</td>\n",
       "      <td>2022-01-30T23:56:47.000Z</td>\n",
       "    </tr>\n",
       "    <tr>\n",
       "      <th>10281</th>\n",
       "      <td>event calendar for next week 31 01 2022 india ...</td>\n",
       "      <td>2022-01-30T23:56:47.000Z</td>\n",
       "    </tr>\n",
       "    <tr>\n",
       "      <th>10282</th>\n",
       "      <td>trading is a marathon not a sprint always reme...</td>\n",
       "      <td>2022-01-30T23:56:47.000Z</td>\n",
       "    </tr>\n",
       "  </tbody>\n",
       "</table>\n",
       "<p>10283 rows × 2 columns</p>\n",
       "</div>"
      ],
      "text/plain": [
       "                                                   tweet  \\\n",
       "0      stock markets script ready for 2022 everything...   \n",
       "1      to get rid of excessive greed always think for...   \n",
       "2      lessons from 2021 stock market paisa acche equ...   \n",
       "3      good morning my state of mind as per nifty lev...   \n",
       "4      wishing you all very happy new year may this y...   \n",
       "...                                                  ...   \n",
       "10278                      a bouncing monday wont be bad   \n",
       "10279  has failed to use captaincy to up his game sha...   \n",
       "10280  fii leaving indian markets is being spammed by...   \n",
       "10281  event calendar for next week 31 01 2022 india ...   \n",
       "10282  trading is a marathon not a sprint always reme...   \n",
       "\n",
       "                           time  \n",
       "0      2022-01-01T05:08:15.000Z  \n",
       "1      2022-01-01T05:08:15.000Z  \n",
       "2      2022-01-01T05:08:15.000Z  \n",
       "3      2022-01-01T05:08:15.000Z  \n",
       "4      2022-01-01T05:08:15.000Z  \n",
       "...                         ...  \n",
       "10278  2022-01-30T23:56:47.000Z  \n",
       "10279  2022-01-30T23:56:47.000Z  \n",
       "10280  2022-01-30T23:56:47.000Z  \n",
       "10281  2022-01-30T23:56:47.000Z  \n",
       "10282  2022-01-30T23:56:47.000Z  \n",
       "\n",
       "[10283 rows x 2 columns]"
      ]
     },
     "execution_count": 36,
     "metadata": {},
     "output_type": "execute_result"
    }
   ],
   "source": [
    "df"
   ]
  },
  {
   "cell_type": "code",
   "execution_count": 37,
   "id": "acacde9d",
   "metadata": {},
   "outputs": [
    {
     "data": {
      "text/plain": [
       "tweet    0\n",
       "time     0\n",
       "dtype: int64"
      ]
     },
     "execution_count": 37,
     "metadata": {},
     "output_type": "execute_result"
    }
   ],
   "source": [
    "df.isnull().sum()"
   ]
  },
  {
   "cell_type": "code",
   "execution_count": 38,
   "id": "8c58313c",
   "metadata": {},
   "outputs": [],
   "source": [
    "analyzer = SentimentIntensityAnalyzer()"
   ]
  },
  {
   "cell_type": "code",
   "execution_count": 88,
   "id": "da903271",
   "metadata": {},
   "outputs": [
    {
     "name": "stdout",
     "output_type": "stream",
     "text": [
      "i hate it\n"
     ]
    },
    {
     "data": {
      "text/plain": [
       "-0.5719"
      ]
     },
     "execution_count": 88,
     "metadata": {},
     "output_type": "execute_result"
    }
   ],
   "source": [
    "str = input()\n",
    "analyzer.polarity_scores(str).get('compound')"
   ]
  },
  {
   "cell_type": "code",
   "execution_count": 103,
   "id": "f25abbf0",
   "metadata": {},
   "outputs": [],
   "source": [
    "def pol(text):\n",
    "    a = analyzer.polarity_scores(text).get('compound')\n",
    "    return a"
   ]
  },
  {
   "cell_type": "code",
   "execution_count": 104,
   "id": "636516a4",
   "metadata": {},
   "outputs": [],
   "source": [
    "df['polarity'] = df['tweet'].apply(pol)"
   ]
  },
  {
   "cell_type": "code",
   "execution_count": 113,
   "id": "0d3afb6c",
   "metadata": {},
   "outputs": [
    {
     "data": {
      "text/html": [
       "<div>\n",
       "<style scoped>\n",
       "    .dataframe tbody tr th:only-of-type {\n",
       "        vertical-align: middle;\n",
       "    }\n",
       "\n",
       "    .dataframe tbody tr th {\n",
       "        vertical-align: top;\n",
       "    }\n",
       "\n",
       "    .dataframe thead th {\n",
       "        text-align: right;\n",
       "    }\n",
       "</style>\n",
       "<table border=\"1\" class=\"dataframe\">\n",
       "  <thead>\n",
       "    <tr style=\"text-align: right;\">\n",
       "      <th></th>\n",
       "      <th>tweet</th>\n",
       "      <th>time</th>\n",
       "      <th>polarity</th>\n",
       "    </tr>\n",
       "  </thead>\n",
       "  <tbody>\n",
       "    <tr>\n",
       "      <th>4045</th>\n",
       "      <td>nifty uptrend on chart cmp 18233 up side 18388...</td>\n",
       "      <td>2022-01-15T05:08:43.000Z</td>\n",
       "      <td>0.4019</td>\n",
       "    </tr>\n",
       "    <tr>\n",
       "      <th>7954</th>\n",
       "      <td>aaj pura twitter space and telegram shaant hai</td>\n",
       "      <td>2022-01-24T15:12:09.000Z</td>\n",
       "      <td>0.0000</td>\n",
       "    </tr>\n",
       "    <tr>\n",
       "      <th>336</th>\n",
       "      <td>stop loss is saying sorry to market aur mafi m...</td>\n",
       "      <td>2022-01-03T05:18:33.000Z</td>\n",
       "      <td>-0.5859</td>\n",
       "    </tr>\n",
       "    <tr>\n",
       "      <th>6133</th>\n",
       "      <td>oooo god what wrong with you look at and weekl...</td>\n",
       "      <td>2022-01-21T08:19:26.000Z</td>\n",
       "      <td>-0.6249</td>\n",
       "    </tr>\n",
       "    <tr>\n",
       "      <th>2861</th>\n",
       "      <td>banknifty spot 38449 target based on max pain ...</td>\n",
       "      <td>2022-01-11T09:00:06.000Z</td>\n",
       "      <td>-0.5106</td>\n",
       "    </tr>\n",
       "    <tr>\n",
       "      <th>9485</th>\n",
       "      <td>you can do all of the reading course taking th...</td>\n",
       "      <td>2022-01-27T14:51:01.000Z</td>\n",
       "      <td>0.8847</td>\n",
       "    </tr>\n",
       "    <tr>\n",
       "      <th>972</th>\n",
       "      <td>spot extreme indicator at 214 indicator above ...</td>\n",
       "      <td>2022-01-04T16:06:02.000Z</td>\n",
       "      <td>0.0000</td>\n",
       "    </tr>\n",
       "    <tr>\n",
       "      <th>5334</th>\n",
       "      <td>are we going to see a fourth consecutive day o...</td>\n",
       "      <td>2022-01-20T02:15:30.000Z</td>\n",
       "      <td>0.0000</td>\n",
       "    </tr>\n",
       "    <tr>\n",
       "      <th>1249</th>\n",
       "      <td>sensex and nifty rise more than half a percent...</td>\n",
       "      <td>2022-01-05T09:02:55.000Z</td>\n",
       "      <td>0.4019</td>\n",
       "    </tr>\n",
       "    <tr>\n",
       "      <th>5486</th>\n",
       "      <td>normally we do get bounces from support levels...</td>\n",
       "      <td>2022-01-20T05:59:19.000Z</td>\n",
       "      <td>-0.6369</td>\n",
       "    </tr>\n",
       "  </tbody>\n",
       "</table>\n",
       "</div>"
      ],
      "text/plain": [
       "                                                  tweet  \\\n",
       "4045  nifty uptrend on chart cmp 18233 up side 18388...   \n",
       "7954     aaj pura twitter space and telegram shaant hai   \n",
       "336   stop loss is saying sorry to market aur mafi m...   \n",
       "6133  oooo god what wrong with you look at and weekl...   \n",
       "2861  banknifty spot 38449 target based on max pain ...   \n",
       "9485  you can do all of the reading course taking th...   \n",
       "972   spot extreme indicator at 214 indicator above ...   \n",
       "5334  are we going to see a fourth consecutive day o...   \n",
       "1249  sensex and nifty rise more than half a percent...   \n",
       "5486  normally we do get bounces from support levels...   \n",
       "\n",
       "                          time  polarity  \n",
       "4045  2022-01-15T05:08:43.000Z    0.4019  \n",
       "7954  2022-01-24T15:12:09.000Z    0.0000  \n",
       "336   2022-01-03T05:18:33.000Z   -0.5859  \n",
       "6133  2022-01-21T08:19:26.000Z   -0.6249  \n",
       "2861  2022-01-11T09:00:06.000Z   -0.5106  \n",
       "9485  2022-01-27T14:51:01.000Z    0.8847  \n",
       "972   2022-01-04T16:06:02.000Z    0.0000  \n",
       "5334  2022-01-20T02:15:30.000Z    0.0000  \n",
       "1249  2022-01-05T09:02:55.000Z    0.4019  \n",
       "5486  2022-01-20T05:59:19.000Z   -0.6369  "
      ]
     },
     "execution_count": 113,
     "metadata": {},
     "output_type": "execute_result"
    }
   ],
   "source": [
    "df.sample(10)"
   ]
  },
  {
   "cell_type": "code",
   "execution_count": null,
   "id": "5278c8cf",
   "metadata": {},
   "outputs": [],
   "source": []
  }
 ],
 "metadata": {
  "kernelspec": {
   "display_name": "Python 3 (ipykernel)",
   "language": "python",
   "name": "python3"
  },
  "language_info": {
   "codemirror_mode": {
    "name": "ipython",
    "version": 3
   },
   "file_extension": ".py",
   "mimetype": "text/x-python",
   "name": "python",
   "nbconvert_exporter": "python",
   "pygments_lexer": "ipython3",
   "version": "3.9.7"
  }
 },
 "nbformat": 4,
 "nbformat_minor": 5
}
