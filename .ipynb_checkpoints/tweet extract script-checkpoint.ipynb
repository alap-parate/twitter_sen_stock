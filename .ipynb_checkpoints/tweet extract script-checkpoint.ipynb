{
 "cells": [
  {
   "cell_type": "code",
   "execution_count": 1,
   "id": "29df4ab0",
   "metadata": {},
   "outputs": [],
   "source": [
    "import csv\n",
    "from getpass import getpass\n",
    "from time import sleep\n",
    "from datetime import datetime\n",
    "from selenium.webdriver.common.keys import Keys\n",
    "from selenium.webdriver import Chrome\n",
    "from selenium.webdriver.support.ui import WebDriverWait\n",
    "from selenium.common.exceptions import NoSuchElementException\n",
    "from selenium.webdriver.common.by import By\n",
    "from selenium.common.exceptions import TimeoutException\n",
    "from selenium.webdriver.support import expected_conditions as EC\n",
    "import warnings\n",
    "warnings.filterwarnings('ignore')\n",
    "import time\n",
    "import pandas as pd\n",
    "import pytz"
   ]
  },
  {
   "cell_type": "code",
   "execution_count": null,
   "id": "a05cac63",
   "metadata": {},
   "outputs": [],
   "source": [
    "driver = Chrome('../../ML/datasets/chromedriver.exe')"
   ]
  },
  {
   "cell_type": "code",
   "execution_count": null,
   "id": "150c9288",
   "metadata": {},
   "outputs": [],
   "source": [
    "driver.get('https://www.twitter.com/login')"
   ]
  },
  {
   "cell_type": "code",
   "execution_count": null,
   "id": "cd1df7cc",
   "metadata": {},
   "outputs": [],
   "source": [
    "username = driver.find_element_by_xpath('/html/body/div/div/div/div/main/div/div/div/div[2]/div[2]/div[1]/div/div/div[5]/label/div/div[2]/div/input')\n",
    "username.send_keys('alapparate')\n",
    "driver.find_element_by_xpath('//*[@id=\"react-root\"]/div/div/div/main/div/div/div/div[2]/div[2]/div[1]/div/div/div[6]/div').click()"
   ]
  },
  {
   "cell_type": "code",
   "execution_count": null,
   "id": "c898a7ff",
   "metadata": {},
   "outputs": [],
   "source": [
    "mypass = getpass()"
   ]
  },
  {
   "cell_type": "code",
   "execution_count": null,
   "id": "8a700519",
   "metadata": {},
   "outputs": [],
   "source": [
    "password = driver.find_element_by_xpath('//*[@id=\"react-root\"]/div/div/div/main/div/div/div/div[2]/div[2]/div[1]/div/div/div[3]/div/label/div/div[2]/div[1]/input')\n",
    "password.send_keys(mypass)\n",
    "driver.find_element_by_xpath('//*[@id=\"react-root\"]/div/div/div/main/div/div/div/div[2]/div[2]/div[2]/div/div/div[1]/div/div/div').click()"
   ]
  },
  {
   "cell_type": "code",
   "execution_count": null,
   "id": "ddadb095",
   "metadata": {},
   "outputs": [],
   "source": [
    "search_box = driver.find_element_by_xpath('//input[@aria-label=\"Search query\"]')\n",
    "search_box.send_keys('#nifty')\n",
    "search_box.send_keys(Keys.RETURN)"
   ]
  },
  {
   "cell_type": "code",
   "execution_count": null,
   "id": "6f169768",
   "metadata": {},
   "outputs": [],
   "source": [
    "driver.find_element_by_link_text('Latest').click()"
   ]
  },
  {
   "cell_type": "code",
   "execution_count": null,
   "id": "e399fca2",
   "metadata": {},
   "outputs": [],
   "source": [
    "cards = driver.find_elements_by_xpath('//article[@data-testid=\"tweet\"]')"
   ]
  },
  {
   "cell_type": "code",
   "execution_count": null,
   "id": "d38914db",
   "metadata": {},
   "outputs": [],
   "source": [
    "card = cards[0]"
   ]
  },
  {
   "cell_type": "code",
   "execution_count": null,
   "id": "68957a11",
   "metadata": {},
   "outputs": [],
   "source": [
    "time_stamp = card.find_element_by_xpath('.//time')"
   ]
  },
  {
   "cell_type": "code",
   "execution_count": null,
   "id": "1c50e5ed",
   "metadata": {},
   "outputs": [],
   "source": [
    "time_stamp"
   ]
  },
  {
   "cell_type": "code",
   "execution_count": null,
   "id": "502b6d07",
   "metadata": {},
   "outputs": [],
   "source": [
    "tweet_text = card.find_element_by_xpath('./div/div/div/div[2]/div[2]/div[2]/div[1]/div').text"
   ]
  },
  {
   "cell_type": "code",
   "execution_count": null,
   "id": "ec77f740",
   "metadata": {},
   "outputs": [],
   "source": [
    "tweet_text"
   ]
  },
  {
   "cell_type": "code",
   "execution_count": null,
   "id": "16c75487",
   "metadata": {},
   "outputs": [],
   "source": [
    "def get_tweet_data(card):\n",
    "    \"\"\"Extract data from tweet\"\"\"\n",
    "    tweet_text = card.find_element_by_xpath('./div/div/div/div[2]/div[2]/div[2]/div[1]/div').text\n",
    "    time_stamp = card.find_element_by_xpath('.//time').get_attribute('datetime')\n",
    "    tweet = (tweet_text,time_stamp)\n",
    "    return tweet"
   ]
  },
  {
   "cell_type": "code",
   "execution_count": null,
   "id": "dd72162a",
   "metadata": {
    "scrolled": true
   },
   "outputs": [],
   "source": [
    "get_tweet_data(card)"
   ]
  },
  {
   "cell_type": "code",
   "execution_count": null,
   "id": "96ba731a",
   "metadata": {},
   "outputs": [],
   "source": [
    "tweet_data = []\n",
    "for card in cards:\n",
    "    data = get_tweet_data(card)\n",
    "    tweet_data.append(data)"
   ]
  },
  {
   "cell_type": "code",
   "execution_count": null,
   "id": "db1a82cc",
   "metadata": {},
   "outputs": [],
   "source": [
    "tweet_data"
   ]
  },
  {
   "cell_type": "code",
   "execution_count": null,
   "id": "cb054fc1",
   "metadata": {},
   "outputs": [],
   "source": [
    "driver.execute_script('window.scrollTo(0,document.body.scrollHeight);')"
   ]
  },
  {
   "cell_type": "markdown",
   "id": "4272befb",
   "metadata": {},
   "source": [
    "## Final Function"
   ]
  },
  {
   "cell_type": "markdown",
   "id": "50e3663f",
   "metadata": {},
   "source": [
    "##### Initiate Chrome "
   ]
  },
  {
   "cell_type": "code",
   "execution_count": 2,
   "id": "e3589f3f",
   "metadata": {},
   "outputs": [],
   "source": [
    "driver = Chrome('../../ML/datasets/chromedriver.exe')"
   ]
  },
  {
   "cell_type": "markdown",
   "id": "3df17cea",
   "metadata": {},
   "source": [
    "##### Login"
   ]
  },
  {
   "cell_type": "code",
   "execution_count": 3,
   "id": "47498dde",
   "metadata": {},
   "outputs": [
    {
     "name": "stdout",
     "output_type": "stream",
     "text": [
      "enter username : ········\n",
      "enter password : ········\n"
     ]
    }
   ],
   "source": [
    "driver.get('https://www.twitter.com/login')\n",
    "driver.maximize_window()\n",
    "time.sleep(5)\n",
    "username = driver.find_element_by_xpath('//input[@autocomplete=\"username\"]')\n",
    "myuname = getpass('enter username : ')\n",
    "username.send_keys(myuname)\n",
    "driver.find_element_by_xpath('/html/body/div/div/div/div[1]/div/div/div/div/div/div/div[2]/div[2]/div/div/div[2]/div[2]/div[1]/div/div/div[6]/div/span').click()\n",
    "mypass = getpass('enter password : ')\n",
    "password = driver.find_element_by_xpath('//input[@autocomplete=\"current-password\"]')\n",
    "password.send_keys(mypass)\n",
    "driver.find_element_by_xpath('/html/body/div/div/div/div[1]/div/div/div/div/div/div/div[2]/div[2]/div/div/div[2]/div[2]/div[2]/div/div[1]/div/div/div/span').click()"
   ]
  },
  {
   "cell_type": "markdown",
   "id": "15473795",
   "metadata": {},
   "source": [
    "##### Date for tweet extraction"
   ]
  },
  {
   "cell_type": "code",
   "execution_count": 4,
   "id": "a2b9c827",
   "metadata": {},
   "outputs": [
    {
     "name": "stdout",
     "output_type": "stream",
     "text": [
      "start (YYYY-MM-DD) : 2022-04-01\n",
      "end (YYYY-MM-DD) : 2022-04-05\n"
     ]
    },
    {
     "data": {
      "text/plain": [
       "'(#nifty) until:2022-04-05 since:2022-04-01 -filter:links -filter:replies'"
      ]
     },
     "execution_count": 4,
     "metadata": {},
     "output_type": "execute_result"
    }
   ],
   "source": [
    "start = input('start (YYYY-MM-DD) : ')\n",
    "end = input('end (YYYY-MM-DD) : ')\n",
    "search_str = f\"(#nifty) until:{end} since:{start} -filter:links -filter:replies\"\n",
    "search_str"
   ]
  },
  {
   "cell_type": "markdown",
   "id": "9ca1b2a3",
   "metadata": {},
   "source": [
    "##### Searching the query"
   ]
  },
  {
   "cell_type": "code",
   "execution_count": 15,
   "id": "edb407d0",
   "metadata": {},
   "outputs": [],
   "source": [
    "search_box = driver.find_element_by_xpath('//input[@aria-label=\"Search query\"]')\n",
    "search_box.send_keys(search_str)\n",
    "search_box.send_keys(Keys.RETURN)\n",
    "driver.find_element_by_link_text('Latest').click()    #navigate to latest tab"
   ]
  },
  {
   "cell_type": "markdown",
   "id": "791fc51e",
   "metadata": {},
   "source": [
    "##### get all tweets on page"
   ]
  },
  {
   "cell_type": "markdown",
   "id": "17397463",
   "metadata": {},
   "source": [
    "###### func to get tweet text and timestamp"
   ]
  },
  {
   "cell_type": "code",
   "execution_count": 16,
   "id": "346840e6",
   "metadata": {},
   "outputs": [],
   "source": [
    "def get_tweet_data(card):\n",
    "    \"\"\"Extract data from tweet\"\"\"\n",
    "    tweet_text = card.find_element_by_xpath('./div/div/div/div[2]/div[2]/div[2]/div[1]/div').text\n",
    "    try :\n",
    "            time_stamp = card.find_element_by_xpath('//div/div/div/div[2]/div[2]/div[1]/div/div/div[1]/a/time').get_attribute('datetime')\n",
    "    except NoSuchElementException:\n",
    "        return\n",
    "    tweet = (tweet_text,time_stamp)\n",
    "    return tweet"
   ]
  },
  {
   "cell_type": "code",
   "execution_count": 18,
   "id": "e25dc4ca",
   "metadata": {
    "scrolled": false
   },
   "outputs": [],
   "source": [
    "data = []\n",
    "tweet_ids = set()\n",
    "last_pos = driver.execute_script('return window.pageYOffset;')\n",
    "scrolling = True\n",
    "\n",
    "while scrolling:\n",
    "    page_cards = driver.find_elements_by_xpath('//article[@data-testid=\"tweet\"]')\n",
    "    for card in page_cards[-25:]:\n",
    "        tweet = get_tweet_data(card)\n",
    "        if bool(tweet):\n",
    "            tweet_id = ''.join(tweet)\n",
    "            if tweet_id not in tweet_ids:\n",
    "                tweet_ids.add(tweet_id)\n",
    "                data.append(tweet)\n",
    "                \n",
    "    scroll_attempt = 0\n",
    "    while True:\n",
    "        # check scroll pos\n",
    "        driver.execute_script('window.scrollTo(0,document.body.scrollHeight);')\n",
    "        sleep(2)\n",
    "        curr_pos = driver.execute_script('return window.pageYOffset;')\n",
    "        if last_pos == curr_pos:\n",
    "            scroll_attempt +=1\n",
    "            driver.execute_script('window.scrollTo(0, 0);')\n",
    "            driver.execute_script('window.scrollTo(0,document.body.scrollHeight);')\n",
    "\n",
    "            # end scroll region\n",
    "            if scroll_attempt >=5:\n",
    "                scrolling = False\n",
    "                break\n",
    "            else:\n",
    "                sleep(2)\n",
    "        else:\n",
    "            last_pos=curr_pos\n",
    "            break"
   ]
  },
  {
   "cell_type": "code",
   "execution_count": 8,
   "id": "ada9a190",
   "metadata": {},
   "outputs": [
    {
     "data": {
      "text/html": [
       "<div>\n",
       "<style scoped>\n",
       "    .dataframe tbody tr th:only-of-type {\n",
       "        vertical-align: middle;\n",
       "    }\n",
       "\n",
       "    .dataframe tbody tr th {\n",
       "        vertical-align: top;\n",
       "    }\n",
       "\n",
       "    .dataframe thead th {\n",
       "        text-align: right;\n",
       "    }\n",
       "</style>\n",
       "<table border=\"1\" class=\"dataframe\">\n",
       "  <thead>\n",
       "    <tr style=\"text-align: right;\">\n",
       "      <th></th>\n",
       "      <th>tweet</th>\n",
       "      <th>time</th>\n",
       "    </tr>\n",
       "  </thead>\n",
       "  <tbody>\n",
       "  </tbody>\n",
       "</table>\n",
       "</div>"
      ],
      "text/plain": [
       "Empty DataFrame\n",
       "Columns: [tweet, time]\n",
       "Index: []"
      ]
     },
     "execution_count": 8,
     "metadata": {},
     "output_type": "execute_result"
    }
   ],
   "source": [
    "df = pd.DataFrame(columns=['tweet','time'])\n",
    "df"
   ]
  },
  {
   "cell_type": "code",
   "execution_count": 9,
   "id": "3f967fe3",
   "metadata": {},
   "outputs": [],
   "source": [
    "for d in data:\n",
    "    tw, ti = d[0],d[1]\n",
    "    df = df.append({'tweet':tw,'time':ti},ignore_index=True)"
   ]
  },
  {
   "cell_type": "code",
   "execution_count": 10,
   "id": "b860ba8f",
   "metadata": {},
   "outputs": [
    {
     "data": {
      "text/html": [
       "<div>\n",
       "<style scoped>\n",
       "    .dataframe tbody tr th:only-of-type {\n",
       "        vertical-align: middle;\n",
       "    }\n",
       "\n",
       "    .dataframe tbody tr th {\n",
       "        vertical-align: top;\n",
       "    }\n",
       "\n",
       "    .dataframe thead th {\n",
       "        text-align: right;\n",
       "    }\n",
       "</style>\n",
       "<table border=\"1\" class=\"dataframe\">\n",
       "  <thead>\n",
       "    <tr style=\"text-align: right;\">\n",
       "      <th></th>\n",
       "      <th>tweet</th>\n",
       "      <th>time</th>\n",
       "    </tr>\n",
       "  </thead>\n",
       "  <tbody>\n",
       "    <tr>\n",
       "      <th>0</th>\n",
       "      <td>All BAYC owners: how did you first find out ab...</td>\n",
       "      <td>2022-04-04T23:43:41.000Z</td>\n",
       "    </tr>\n",
       "    <tr>\n",
       "      <th>1</th>\n",
       "      <td>The first years of trading can be hard.\\n\\n- B...</td>\n",
       "      <td>2022-04-04T23:43:41.000Z</td>\n",
       "    </tr>\n",
       "    <tr>\n",
       "      <th>2</th>\n",
       "      <td>#nifty at 3:30 PM - 18053\\n#Brentcrude at 3:30...</td>\n",
       "      <td>2022-04-04T23:43:41.000Z</td>\n",
       "    </tr>\n",
       "    <tr>\n",
       "      <th>3</th>\n",
       "      <td>जो लोग इस मार्किट में buy नही कर पाए और अब इस ...</td>\n",
       "      <td>2022-04-04T23:43:41.000Z</td>\n",
       "    </tr>\n",
       "    <tr>\n",
       "      <th>4</th>\n",
       "      <td>#nifty50 has formed a large bullish candle on ...</td>\n",
       "      <td>2022-04-04T23:43:41.000Z</td>\n",
       "    </tr>\n",
       "    <tr>\n",
       "      <th>...</th>\n",
       "      <td>...</td>\n",
       "      <td>...</td>\n",
       "    </tr>\n",
       "    <tr>\n",
       "      <th>888</th>\n",
       "      <td>#DMART Is holding 4000 3900 base \\n\\nStrong ba...</td>\n",
       "      <td>2022-04-04T03:21:25.000Z</td>\n",
       "    </tr>\n",
       "    <tr>\n",
       "      <th>889</th>\n",
       "      <td>#Nifty support is at 17540 with resistance nea...</td>\n",
       "      <td>2022-04-04T03:21:25.000Z</td>\n",
       "    </tr>\n",
       "    <tr>\n",
       "      <th>890</th>\n",
       "      <td>#nifty two lvls to watch\\n\\n17795 on upside..\\...</td>\n",
       "      <td>2022-04-04T03:21:25.000Z</td>\n",
       "    </tr>\n",
       "    <tr>\n",
       "      <th>891</th>\n",
       "      <td>F&amp;O ko chod k baki sab thick thack hai\\n#nifty...</td>\n",
       "      <td>2022-04-04T03:21:25.000Z</td>\n",
       "    </tr>\n",
       "    <tr>\n",
       "      <th>892</th>\n",
       "      <td>Daily Update #04Apr2022 08:39\\nStock : #ATUL\\n...</td>\n",
       "      <td>2022-04-04T03:21:25.000Z</td>\n",
       "    </tr>\n",
       "  </tbody>\n",
       "</table>\n",
       "<p>893 rows × 2 columns</p>\n",
       "</div>"
      ],
      "text/plain": [
       "                                                 tweet  \\\n",
       "0    All BAYC owners: how did you first find out ab...   \n",
       "1    The first years of trading can be hard.\\n\\n- B...   \n",
       "2    #nifty at 3:30 PM - 18053\\n#Brentcrude at 3:30...   \n",
       "3    जो लोग इस मार्किट में buy नही कर पाए और अब इस ...   \n",
       "4    #nifty50 has formed a large bullish candle on ...   \n",
       "..                                                 ...   \n",
       "888  #DMART Is holding 4000 3900 base \\n\\nStrong ba...   \n",
       "889  #Nifty support is at 17540 with resistance nea...   \n",
       "890  #nifty two lvls to watch\\n\\n17795 on upside..\\...   \n",
       "891  F&O ko chod k baki sab thick thack hai\\n#nifty...   \n",
       "892  Daily Update #04Apr2022 08:39\\nStock : #ATUL\\n...   \n",
       "\n",
       "                         time  \n",
       "0    2022-04-04T23:43:41.000Z  \n",
       "1    2022-04-04T23:43:41.000Z  \n",
       "2    2022-04-04T23:43:41.000Z  \n",
       "3    2022-04-04T23:43:41.000Z  \n",
       "4    2022-04-04T23:43:41.000Z  \n",
       "..                        ...  \n",
       "888  2022-04-04T03:21:25.000Z  \n",
       "889  2022-04-04T03:21:25.000Z  \n",
       "890  2022-04-04T03:21:25.000Z  \n",
       "891  2022-04-04T03:21:25.000Z  \n",
       "892  2022-04-04T03:21:25.000Z  \n",
       "\n",
       "[893 rows x 2 columns]"
      ]
     },
     "execution_count": 10,
     "metadata": {},
     "output_type": "execute_result"
    }
   ],
   "source": [
    "df"
   ]
  },
  {
   "cell_type": "code",
   "execution_count": 11,
   "id": "736f6bd9",
   "metadata": {},
   "outputs": [],
   "source": [
    "df.to_csv('tweets.csv',index=False)"
   ]
  },
  {
   "cell_type": "markdown",
   "id": "08b28e30",
   "metadata": {},
   "source": [
    "##### Converting Time Zone to India"
   ]
  },
  {
   "cell_type": "code",
   "execution_count": null,
   "id": "3cd66e7a",
   "metadata": {},
   "outputs": [],
   "source": [
    "df['time'][0]"
   ]
  }
 ],
 "metadata": {
  "kernelspec": {
   "display_name": "Python 3 (ipykernel)",
   "language": "python",
   "name": "python3"
  },
  "language_info": {
   "codemirror_mode": {
    "name": "ipython",
    "version": 3
   },
   "file_extension": ".py",
   "mimetype": "text/x-python",
   "name": "python",
   "nbconvert_exporter": "python",
   "pygments_lexer": "ipython3",
   "version": "3.9.7"
  }
 },
 "nbformat": 4,
 "nbformat_minor": 5
}
