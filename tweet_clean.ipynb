{
 "cells": [
  {
   "cell_type": "code",
   "execution_count": 20,
   "id": "82f09e3f",
   "metadata": {},
   "outputs": [],
   "source": [
    "import pandas as pd\n",
    "import re\n",
    "import glob\n",
    "import os\n",
    "from autocorrect import Speller"
   ]
  },
  {
   "cell_type": "code",
   "execution_count": 21,
   "id": "12038def",
   "metadata": {},
   "outputs": [],
   "source": [
    "path = r'C:\\\\Users\\\\Alap Parate\\\\Desktop\\twitter_sen_stock'\n",
    "all_files = glob.glob(os.path.join(path , \"data\\*.csv\"))"
   ]
  },
  {
   "cell_type": "code",
   "execution_count": 22,
   "id": "2584fbec",
   "metadata": {},
   "outputs": [
    {
     "data": {
      "text/plain": [
       "['C:\\\\\\\\Users\\\\\\\\Alap Parate\\\\\\\\Desktop\\\\twitter_sen_stock\\\\data\\\\tweets_2022-01-01_2022-01-04.csv',\n",
       " 'C:\\\\\\\\Users\\\\\\\\Alap Parate\\\\\\\\Desktop\\\\twitter_sen_stock\\\\data\\\\tweets_2022-01-04_2022-01-10.csv',\n",
       " 'C:\\\\\\\\Users\\\\\\\\Alap Parate\\\\\\\\Desktop\\\\twitter_sen_stock\\\\data\\\\tweets_2022-01-10_2022-01-15.csv',\n",
       " 'C:\\\\\\\\Users\\\\\\\\Alap Parate\\\\\\\\Desktop\\\\twitter_sen_stock\\\\data\\\\tweets_2022-01-15_2022-01-20.csv',\n",
       " 'C:\\\\\\\\Users\\\\\\\\Alap Parate\\\\\\\\Desktop\\\\twitter_sen_stock\\\\data\\\\tweets_2022-01-20_2022-01-25.csv',\n",
       " 'C:\\\\\\\\Users\\\\\\\\Alap Parate\\\\\\\\Desktop\\\\twitter_sen_stock\\\\data\\\\tweets_2022-01-25_2022-01-31.csv']"
      ]
     },
     "execution_count": 22,
     "metadata": {},
     "output_type": "execute_result"
    }
   ],
   "source": [
    "all_files"
   ]
  },
  {
   "cell_type": "code",
   "execution_count": 23,
   "id": "cd6a05e0",
   "metadata": {},
   "outputs": [],
   "source": [
    "df_each_file = (pd.read_csv(f) for f in all_files)\n",
    "concat_df = pd.concat(df_each_file, ignore_index=True)"
   ]
  },
  {
   "cell_type": "code",
   "execution_count": 24,
   "id": "6341c909",
   "metadata": {},
   "outputs": [],
   "source": [
    "concat_df = concat_df.sort_values(by='time').reset_index(drop=True)"
   ]
  },
  {
   "cell_type": "code",
   "execution_count": 25,
   "id": "9d052b1f",
   "metadata": {},
   "outputs": [],
   "source": [
    "sample = 'I looove tading, today gian ae high #nifty @myfriend'"
   ]
  },
  {
   "cell_type": "code",
   "execution_count": 26,
   "id": "06bc1005",
   "metadata": {},
   "outputs": [],
   "source": [
    "sample_ = re.sub(r\"@[A-Za-z0-9]*\" ,\"\",sample)\n",
    "sample_ = re.sub(r\"#[A-Za-z0-9]*\" ,\"\",sample_)"
   ]
  },
  {
   "cell_type": "code",
   "execution_count": 27,
   "id": "cd15bd2d",
   "metadata": {},
   "outputs": [
    {
     "data": {
      "text/plain": [
       "'I looove tading, today gian ae high  '"
      ]
     },
     "execution_count": 27,
     "metadata": {},
     "output_type": "execute_result"
    }
   ],
   "source": [
    "sample_"
   ]
  },
  {
   "cell_type": "code",
   "execution_count": 28,
   "id": "9d2bfb95",
   "metadata": {},
   "outputs": [
    {
     "data": {
      "text/plain": [
       "'I love taking, today gain ae high  '"
      ]
     },
     "execution_count": 28,
     "metadata": {},
     "output_type": "execute_result"
    }
   ],
   "source": [
    "spell_check = Speller()\n",
    "spell_check(sample_)"
   ]
  },
  {
   "cell_type": "code",
   "execution_count": 29,
   "id": "dac0119d",
   "metadata": {},
   "outputs": [],
   "source": [
    "link = ' this is test string https://www.google.com'"
   ]
  },
  {
   "cell_type": "code",
   "execution_count": 30,
   "id": "c0616727",
   "metadata": {},
   "outputs": [
    {
     "name": "stdout",
     "output_type": "stream",
     "text": [
      " this is test string \n"
     ]
    }
   ],
   "source": [
    "print(re.sub(r'https?:\\/\\/.*[\\r\\n]*','',link))"
   ]
  },
  {
   "cell_type": "markdown",
   "id": "d22d1466",
   "metadata": {},
   "source": [
    "## Cleaning Tweets"
   ]
  },
  {
   "cell_type": "markdown",
   "id": "08e49314",
   "metadata": {},
   "source": [
    "##### remove #hashtags and @mentions"
   ]
  },
  {
   "cell_type": "code",
   "execution_count": 31,
   "id": "981c5a42",
   "metadata": {},
   "outputs": [
    {
     "data": {
      "text/html": [
       "<div>\n",
       "<style scoped>\n",
       "    .dataframe tbody tr th:only-of-type {\n",
       "        vertical-align: middle;\n",
       "    }\n",
       "\n",
       "    .dataframe tbody tr th {\n",
       "        vertical-align: top;\n",
       "    }\n",
       "\n",
       "    .dataframe thead th {\n",
       "        text-align: right;\n",
       "    }\n",
       "</style>\n",
       "<table border=\"1\" class=\"dataframe\">\n",
       "  <thead>\n",
       "    <tr style=\"text-align: right;\">\n",
       "      <th></th>\n",
       "      <th>tweet</th>\n",
       "      <th>time</th>\n",
       "    </tr>\n",
       "  </thead>\n",
       "  <tbody>\n",
       "    <tr>\n",
       "      <th>0</th>\n",
       "      <td>Stock markets script ready for 2022 ?.  #Nifty...</td>\n",
       "      <td>2022-01-01T05:08:15.000Z</td>\n",
       "    </tr>\n",
       "    <tr>\n",
       "      <th>1</th>\n",
       "      <td>To get rid of excessive greed,  Always think f...</td>\n",
       "      <td>2022-01-01T05:08:15.000Z</td>\n",
       "    </tr>\n",
       "    <tr>\n",
       "      <th>2</th>\n",
       "      <td>Lessons from 2021 stock market - Paisa acche e...</td>\n",
       "      <td>2022-01-01T05:08:15.000Z</td>\n",
       "    </tr>\n",
       "    <tr>\n",
       "      <th>3</th>\n",
       "      <td>Good morning\\n\\nMy state of mind as per nifty ...</td>\n",
       "      <td>2022-01-01T05:08:15.000Z</td>\n",
       "    </tr>\n",
       "    <tr>\n",
       "      <th>4</th>\n",
       "      <td>Wishing you all very happy new year. May this ...</td>\n",
       "      <td>2022-01-01T05:08:15.000Z</td>\n",
       "    </tr>\n",
       "    <tr>\n",
       "      <th>...</th>\n",
       "      <td>...</td>\n",
       "      <td>...</td>\n",
       "    </tr>\n",
       "    <tr>\n",
       "      <th>14400</th>\n",
       "      <td>A bouncing Monday wont be bad \\n#spx \\n#nifty ...</td>\n",
       "      <td>2022-01-30T23:56:47.000Z</td>\n",
       "    </tr>\n",
       "    <tr>\n",
       "      <th>14401</th>\n",
       "      <td>'#RohitSharma has failed to use #TeamIndia cap...</td>\n",
       "      <td>2022-01-30T23:56:47.000Z</td>\n",
       "    </tr>\n",
       "    <tr>\n",
       "      <th>14402</th>\n",
       "      <td>FII leaving indian markets is being spammed by...</td>\n",
       "      <td>2022-01-30T23:56:47.000Z</td>\n",
       "    </tr>\n",
       "    <tr>\n",
       "      <th>14403</th>\n",
       "      <td>*Event Calendar For Next Week*\\n\\n*31.01.2022:...</td>\n",
       "      <td>2022-01-30T23:56:47.000Z</td>\n",
       "    </tr>\n",
       "    <tr>\n",
       "      <th>14404</th>\n",
       "      <td>Trading is a marathon, not a sprint, always re...</td>\n",
       "      <td>2022-01-30T23:56:47.000Z</td>\n",
       "    </tr>\n",
       "  </tbody>\n",
       "</table>\n",
       "<p>14405 rows × 2 columns</p>\n",
       "</div>"
      ],
      "text/plain": [
       "                                                   tweet  \\\n",
       "0      Stock markets script ready for 2022 ?.  #Nifty...   \n",
       "1      To get rid of excessive greed,  Always think f...   \n",
       "2      Lessons from 2021 stock market - Paisa acche e...   \n",
       "3      Good morning\\n\\nMy state of mind as per nifty ...   \n",
       "4      Wishing you all very happy new year. May this ...   \n",
       "...                                                  ...   \n",
       "14400  A bouncing Monday wont be bad \\n#spx \\n#nifty ...   \n",
       "14401  '#RohitSharma has failed to use #TeamIndia cap...   \n",
       "14402  FII leaving indian markets is being spammed by...   \n",
       "14403  *Event Calendar For Next Week*\\n\\n*31.01.2022:...   \n",
       "14404  Trading is a marathon, not a sprint, always re...   \n",
       "\n",
       "                           time  \n",
       "0      2022-01-01T05:08:15.000Z  \n",
       "1      2022-01-01T05:08:15.000Z  \n",
       "2      2022-01-01T05:08:15.000Z  \n",
       "3      2022-01-01T05:08:15.000Z  \n",
       "4      2022-01-01T05:08:15.000Z  \n",
       "...                         ...  \n",
       "14400  2022-01-30T23:56:47.000Z  \n",
       "14401  2022-01-30T23:56:47.000Z  \n",
       "14402  2022-01-30T23:56:47.000Z  \n",
       "14403  2022-01-30T23:56:47.000Z  \n",
       "14404  2022-01-30T23:56:47.000Z  \n",
       "\n",
       "[14405 rows x 2 columns]"
      ]
     },
     "execution_count": 31,
     "metadata": {},
     "output_type": "execute_result"
    }
   ],
   "source": [
    "concat_df"
   ]
  },
  {
   "cell_type": "code",
   "execution_count": 32,
   "id": "44512952",
   "metadata": {},
   "outputs": [],
   "source": [
    "concat_df['tweet'] = concat_df['tweet'].str.lower()"
   ]
  },
  {
   "cell_type": "code",
   "execution_count": 33,
   "id": "1cbe61ad",
   "metadata": {},
   "outputs": [],
   "source": [
    "def cleaner(text:str):\n",
    "    \n",
    "    text = text.lower()\n",
    "    \n",
    "    hash_pattern  = re.findall(\"[#|@]\\w+\",text)\n",
    "    for p in hash_pattern:\n",
    "        text = text.replace(p,\"\")\n",
    "    urls = re.findall(\"http[A-Za-z:/0-9.]+\",text)\n",
    "    for u in urls:\n",
    "        text = text.replace(u,\"\")\n",
    "    text =re.findall(\"\\w+\",text)\n",
    "    text = \" \".join(text)\n",
    "    return text"
   ]
  },
  {
   "cell_type": "code",
   "execution_count": 34,
   "id": "b210111d",
   "metadata": {},
   "outputs": [],
   "source": [
    "concat_df['tweet'] = concat_df['tweet'].apply(cleaner)"
   ]
  },
  {
   "cell_type": "code",
   "execution_count": 35,
   "id": "d4efa5a7",
   "metadata": {},
   "outputs": [],
   "source": [
    "concat_df.to_csv('final_data.csv',index=False)"
   ]
  },
  {
   "cell_type": "code",
   "execution_count": 36,
   "id": "213d4cc9",
   "metadata": {},
   "outputs": [
    {
     "data": {
      "text/plain": [
       "'let me tell you all a secret new highs are coming ride this bull and manage risk at all times it is going to be bumpy but new highs will certainly come'"
      ]
     },
     "execution_count": 36,
     "metadata": {},
     "output_type": "execute_result"
    }
   ],
   "source": [
    "concat_df['tweet'][87]"
   ]
  },
  {
   "cell_type": "markdown",
   "id": "9eaf83dd",
   "metadata": {},
   "source": [
    "## Removing other languages rows"
   ]
  },
  {
   "cell_type": "code",
   "execution_count": 37,
   "id": "9fb9c693",
   "metadata": {},
   "outputs": [],
   "source": [
    "from langdetect import detect\n",
    "from langdetect.lang_detect_exception import LangDetectException"
   ]
  },
  {
   "cell_type": "code",
   "execution_count": 38,
   "id": "446e0ac7",
   "metadata": {},
   "outputs": [],
   "source": [
    "df = pd.read_csv('final_data.csv')"
   ]
  },
  {
   "cell_type": "code",
   "execution_count": 39,
   "id": "3b9fd3f5",
   "metadata": {},
   "outputs": [
    {
     "data": {
      "text/plain": [
       "'let me tell you all a secret new highs are coming ride this bull and manage risk at all times it is going to be bumpy but new highs will certainly come'"
      ]
     },
     "execution_count": 39,
     "metadata": {},
     "output_type": "execute_result"
    }
   ],
   "source": [
    "df['tweet'][87]"
   ]
  },
  {
   "cell_type": "code",
   "execution_count": 40,
   "id": "5f632fec",
   "metadata": {},
   "outputs": [
    {
     "data": {
      "text/plain": [
       "tweet    6\n",
       "time     0\n",
       "dtype: int64"
      ]
     },
     "execution_count": 40,
     "metadata": {},
     "output_type": "execute_result"
    }
   ],
   "source": [
    "df.isnull().sum()"
   ]
  },
  {
   "cell_type": "code",
   "execution_count": 41,
   "id": "9cbf1ab5",
   "metadata": {},
   "outputs": [],
   "source": [
    "df.dropna(inplace=True,axis=0)"
   ]
  },
  {
   "cell_type": "code",
   "execution_count": 42,
   "id": "8e89a2d1",
   "metadata": {},
   "outputs": [
    {
     "data": {
      "text/plain": [
       "tweet    0\n",
       "time     0\n",
       "dtype: int64"
      ]
     },
     "execution_count": 42,
     "metadata": {},
     "output_type": "execute_result"
    }
   ],
   "source": [
    "df.isnull().sum()"
   ]
  },
  {
   "cell_type": "code",
   "execution_count": 43,
   "id": "d1eb8d2f",
   "metadata": {},
   "outputs": [
    {
     "data": {
      "text/html": [
       "<div>\n",
       "<style scoped>\n",
       "    .dataframe tbody tr th:only-of-type {\n",
       "        vertical-align: middle;\n",
       "    }\n",
       "\n",
       "    .dataframe tbody tr th {\n",
       "        vertical-align: top;\n",
       "    }\n",
       "\n",
       "    .dataframe thead th {\n",
       "        text-align: right;\n",
       "    }\n",
       "</style>\n",
       "<table border=\"1\" class=\"dataframe\">\n",
       "  <thead>\n",
       "    <tr style=\"text-align: right;\">\n",
       "      <th></th>\n",
       "      <th>tweet</th>\n",
       "      <th>time</th>\n",
       "    </tr>\n",
       "  </thead>\n",
       "  <tbody>\n",
       "    <tr>\n",
       "      <th>0</th>\n",
       "      <td>stock markets script ready for 2022 everything...</td>\n",
       "      <td>2022-01-01T05:08:15.000Z</td>\n",
       "    </tr>\n",
       "    <tr>\n",
       "      <th>1</th>\n",
       "      <td>to get rid of excessive greed always think for...</td>\n",
       "      <td>2022-01-01T05:08:15.000Z</td>\n",
       "    </tr>\n",
       "    <tr>\n",
       "      <th>2</th>\n",
       "      <td>lessons from 2021 stock market paisa acche equ...</td>\n",
       "      <td>2022-01-01T05:08:15.000Z</td>\n",
       "    </tr>\n",
       "    <tr>\n",
       "      <th>3</th>\n",
       "      <td>good morning my state of mind as per nifty lev...</td>\n",
       "      <td>2022-01-01T05:08:15.000Z</td>\n",
       "    </tr>\n",
       "    <tr>\n",
       "      <th>4</th>\n",
       "      <td>wishing you all very happy new year may this y...</td>\n",
       "      <td>2022-01-01T05:08:15.000Z</td>\n",
       "    </tr>\n",
       "    <tr>\n",
       "      <th>...</th>\n",
       "      <td>...</td>\n",
       "      <td>...</td>\n",
       "    </tr>\n",
       "    <tr>\n",
       "      <th>14394</th>\n",
       "      <td>a bouncing monday wont be bad</td>\n",
       "      <td>2022-01-30T23:56:47.000Z</td>\n",
       "    </tr>\n",
       "    <tr>\n",
       "      <th>14395</th>\n",
       "      <td>has failed to use captaincy to up his game sha...</td>\n",
       "      <td>2022-01-30T23:56:47.000Z</td>\n",
       "    </tr>\n",
       "    <tr>\n",
       "      <th>14396</th>\n",
       "      <td>fii leaving indian markets is being spammed by...</td>\n",
       "      <td>2022-01-30T23:56:47.000Z</td>\n",
       "    </tr>\n",
       "    <tr>\n",
       "      <th>14397</th>\n",
       "      <td>event calendar for next week 31 01 2022 india ...</td>\n",
       "      <td>2022-01-30T23:56:47.000Z</td>\n",
       "    </tr>\n",
       "    <tr>\n",
       "      <th>14398</th>\n",
       "      <td>trading is a marathon not a sprint always reme...</td>\n",
       "      <td>2022-01-30T23:56:47.000Z</td>\n",
       "    </tr>\n",
       "  </tbody>\n",
       "</table>\n",
       "<p>14399 rows × 2 columns</p>\n",
       "</div>"
      ],
      "text/plain": [
       "                                                   tweet  \\\n",
       "0      stock markets script ready for 2022 everything...   \n",
       "1      to get rid of excessive greed always think for...   \n",
       "2      lessons from 2021 stock market paisa acche equ...   \n",
       "3      good morning my state of mind as per nifty lev...   \n",
       "4      wishing you all very happy new year may this y...   \n",
       "...                                                  ...   \n",
       "14394                      a bouncing monday wont be bad   \n",
       "14395  has failed to use captaincy to up his game sha...   \n",
       "14396  fii leaving indian markets is being spammed by...   \n",
       "14397  event calendar for next week 31 01 2022 india ...   \n",
       "14398  trading is a marathon not a sprint always reme...   \n",
       "\n",
       "                           time  \n",
       "0      2022-01-01T05:08:15.000Z  \n",
       "1      2022-01-01T05:08:15.000Z  \n",
       "2      2022-01-01T05:08:15.000Z  \n",
       "3      2022-01-01T05:08:15.000Z  \n",
       "4      2022-01-01T05:08:15.000Z  \n",
       "...                         ...  \n",
       "14394  2022-01-30T23:56:47.000Z  \n",
       "14395  2022-01-30T23:56:47.000Z  \n",
       "14396  2022-01-30T23:56:47.000Z  \n",
       "14397  2022-01-30T23:56:47.000Z  \n",
       "14398  2022-01-30T23:56:47.000Z  \n",
       "\n",
       "[14399 rows x 2 columns]"
      ]
     },
     "execution_count": 43,
     "metadata": {},
     "output_type": "execute_result"
    }
   ],
   "source": [
    "df.reset_index(drop=True)"
   ]
  },
  {
   "cell_type": "code",
   "execution_count": 44,
   "id": "e4b48fb4",
   "metadata": {},
   "outputs": [],
   "source": [
    "df1 = df[df['tweet'].map(lambda x: x.isascii())]"
   ]
  },
  {
   "cell_type": "code",
   "execution_count": 45,
   "id": "e3687c00",
   "metadata": {},
   "outputs": [],
   "source": [
    "df1 = df1.reset_index(drop=True)"
   ]
  },
  {
   "cell_type": "code",
   "execution_count": 46,
   "id": "b7d211d8",
   "metadata": {},
   "outputs": [
    {
     "data": {
      "text/html": [
       "<div>\n",
       "<style scoped>\n",
       "    .dataframe tbody tr th:only-of-type {\n",
       "        vertical-align: middle;\n",
       "    }\n",
       "\n",
       "    .dataframe tbody tr th {\n",
       "        vertical-align: top;\n",
       "    }\n",
       "\n",
       "    .dataframe thead th {\n",
       "        text-align: right;\n",
       "    }\n",
       "</style>\n",
       "<table border=\"1\" class=\"dataframe\">\n",
       "  <thead>\n",
       "    <tr style=\"text-align: right;\">\n",
       "      <th></th>\n",
       "      <th>tweet</th>\n",
       "      <th>time</th>\n",
       "    </tr>\n",
       "  </thead>\n",
       "  <tbody>\n",
       "    <tr>\n",
       "      <th>0</th>\n",
       "      <td>stock markets script ready for 2022 everything...</td>\n",
       "      <td>2022-01-01T05:08:15.000Z</td>\n",
       "    </tr>\n",
       "    <tr>\n",
       "      <th>1</th>\n",
       "      <td>to get rid of excessive greed always think for...</td>\n",
       "      <td>2022-01-01T05:08:15.000Z</td>\n",
       "    </tr>\n",
       "    <tr>\n",
       "      <th>2</th>\n",
       "      <td>lessons from 2021 stock market paisa acche equ...</td>\n",
       "      <td>2022-01-01T05:08:15.000Z</td>\n",
       "    </tr>\n",
       "    <tr>\n",
       "      <th>3</th>\n",
       "      <td>good morning my state of mind as per nifty lev...</td>\n",
       "      <td>2022-01-01T05:08:15.000Z</td>\n",
       "    </tr>\n",
       "    <tr>\n",
       "      <th>4</th>\n",
       "      <td>wishing you all very happy new year may this y...</td>\n",
       "      <td>2022-01-01T05:08:15.000Z</td>\n",
       "    </tr>\n",
       "    <tr>\n",
       "      <th>...</th>\n",
       "      <td>...</td>\n",
       "      <td>...</td>\n",
       "    </tr>\n",
       "    <tr>\n",
       "      <th>14080</th>\n",
       "      <td>a bouncing monday wont be bad</td>\n",
       "      <td>2022-01-30T23:56:47.000Z</td>\n",
       "    </tr>\n",
       "    <tr>\n",
       "      <th>14081</th>\n",
       "      <td>has failed to use captaincy to up his game sha...</td>\n",
       "      <td>2022-01-30T23:56:47.000Z</td>\n",
       "    </tr>\n",
       "    <tr>\n",
       "      <th>14082</th>\n",
       "      <td>fii leaving indian markets is being spammed by...</td>\n",
       "      <td>2022-01-30T23:56:47.000Z</td>\n",
       "    </tr>\n",
       "    <tr>\n",
       "      <th>14083</th>\n",
       "      <td>event calendar for next week 31 01 2022 india ...</td>\n",
       "      <td>2022-01-30T23:56:47.000Z</td>\n",
       "    </tr>\n",
       "    <tr>\n",
       "      <th>14084</th>\n",
       "      <td>trading is a marathon not a sprint always reme...</td>\n",
       "      <td>2022-01-30T23:56:47.000Z</td>\n",
       "    </tr>\n",
       "  </tbody>\n",
       "</table>\n",
       "<p>14085 rows × 2 columns</p>\n",
       "</div>"
      ],
      "text/plain": [
       "                                                   tweet  \\\n",
       "0      stock markets script ready for 2022 everything...   \n",
       "1      to get rid of excessive greed always think for...   \n",
       "2      lessons from 2021 stock market paisa acche equ...   \n",
       "3      good morning my state of mind as per nifty lev...   \n",
       "4      wishing you all very happy new year may this y...   \n",
       "...                                                  ...   \n",
       "14080                      a bouncing monday wont be bad   \n",
       "14081  has failed to use captaincy to up his game sha...   \n",
       "14082  fii leaving indian markets is being spammed by...   \n",
       "14083  event calendar for next week 31 01 2022 india ...   \n",
       "14084  trading is a marathon not a sprint always reme...   \n",
       "\n",
       "                           time  \n",
       "0      2022-01-01T05:08:15.000Z  \n",
       "1      2022-01-01T05:08:15.000Z  \n",
       "2      2022-01-01T05:08:15.000Z  \n",
       "3      2022-01-01T05:08:15.000Z  \n",
       "4      2022-01-01T05:08:15.000Z  \n",
       "...                         ...  \n",
       "14080  2022-01-30T23:56:47.000Z  \n",
       "14081  2022-01-30T23:56:47.000Z  \n",
       "14082  2022-01-30T23:56:47.000Z  \n",
       "14083  2022-01-30T23:56:47.000Z  \n",
       "14084  2022-01-30T23:56:47.000Z  \n",
       "\n",
       "[14085 rows x 2 columns]"
      ]
     },
     "execution_count": 46,
     "metadata": {},
     "output_type": "execute_result"
    }
   ],
   "source": [
    "df1"
   ]
  },
  {
   "cell_type": "code",
   "execution_count": 47,
   "id": "6087164d",
   "metadata": {},
   "outputs": [],
   "source": [
    "df1.to_csv('clean_data.csv',index=False)"
   ]
  },
  {
   "cell_type": "code",
   "execution_count": 1,
   "id": "2295d8d2",
   "metadata": {},
   "outputs": [
    {
     "name": "stderr",
     "output_type": "stream",
     "text": [
      "C:\\anaconda3\\lib\\site-packages\\xgboost\\compat.py:36: FutureWarning: pandas.Int64Index is deprecated and will be removed from pandas in a future version. Use pandas.Index with the appropriate dtype instead.\n",
      "  from pandas import MultiIndex, Int64Index\n"
     ]
    }
   ],
   "source": [
    "import pickle\n",
    "model = pickle.load(open(\"./model_pkl_xgb\",\"rb\"))"
   ]
  }
 ],
 "metadata": {
  "kernelspec": {
   "display_name": "Python 3 (ipykernel)",
   "language": "python",
   "name": "python3"
  },
  "language_info": {
   "codemirror_mode": {
    "name": "ipython",
    "version": 3
   },
   "file_extension": ".py",
   "mimetype": "text/x-python",
   "name": "python",
   "nbconvert_exporter": "python",
   "pygments_lexer": "ipython3",
   "version": "3.9.7"
  }
 },
 "nbformat": 4,
 "nbformat_minor": 5
}
