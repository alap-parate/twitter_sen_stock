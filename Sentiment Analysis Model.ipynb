{
 "cells": [
  {
   "cell_type": "code",
   "execution_count": 21,
   "id": "8c40f4b0",
   "metadata": {},
   "outputs": [],
   "source": [
    "import pandas as pd\n",
    "from sklearn.svm import LinearSVC\n",
    "from sklearn.ensemble import RandomForestClassifier\n",
    "from sklearn.model_selection import *\n",
    "from sklearn.model_selection import *\n",
    "from sklearn.feature_extraction.text import CountVectorizer,TfidfVectorizer\n",
    "from sklearn.pipeline import make_pipeline\n",
    "from sklearn.metrics import *\n",
    "import seaborn as sns\n",
    "import numpy as np\n",
    "from xgboost import XGBClassifier\n",
    "from imblearn.over_sampling import RandomOverSampler\n",
    "import optuna\n",
    "import warnings\n",
    "warnings.filterwarnings('ignore')"
   ]
  },
  {
   "cell_type": "code",
   "execution_count": 2,
   "id": "09f14b65",
   "metadata": {},
   "outputs": [],
   "source": [
    "df = pd.read_csv('sentimental_data.csv')"
   ]
  },
  {
   "cell_type": "code",
   "execution_count": 3,
   "id": "b7c52bc8",
   "metadata": {},
   "outputs": [
    {
     "data": {
      "text/plain": [
       " 1.0    4979\n",
       " 0.0    2950\n",
       "-1.0    2354\n",
       "Name: polarity, dtype: int64"
      ]
     },
     "execution_count": 3,
     "metadata": {},
     "output_type": "execute_result"
    }
   ],
   "source": [
    "df['polarity'].value_counts()"
   ]
  },
  {
   "cell_type": "code",
   "execution_count": 4,
   "id": "8e00ec68",
   "metadata": {},
   "outputs": [
    {
     "data": {
      "text/plain": [
       "<AxesSubplot:xlabel='polarity', ylabel='Count'>"
      ]
     },
     "execution_count": 4,
     "metadata": {},
     "output_type": "execute_result"
    },
    {
     "data": {
      "image/png": "[encoded data removed]",
      "text/plain": [
       "<Figure size 432x288 with 1 Axes>"
      ]
     },
     "metadata": {
      "needs_background": "light"
     },
     "output_type": "display_data"
    }
   ],
   "source": [
    "sns.histplot(df['polarity'])"
   ]
  },
  {
   "cell_type": "code",
   "execution_count": 11,
   "id": "92ad5aaf",
   "metadata": {},
   "outputs": [
    {
     "data": {
      "text/plain": [
       "tweet        object\n",
       "time         object\n",
       "polarity    float64\n",
       "dtype: object"
      ]
     },
     "execution_count": 11,
     "metadata": {},
     "output_type": "execute_result"
    }
   ],
   "source": [
    "df.dtypes"
   ]
  },
  {
   "cell_type": "code",
   "execution_count": 5,
   "id": "c92261e2",
   "metadata": {},
   "outputs": [],
   "source": [
    "X = df.tweet\n",
    "y = df.polarity"
   ]
  },
  {
   "cell_type": "code",
   "execution_count": 6,
   "id": "8e16ce1c",
   "metadata": {},
   "outputs": [],
   "source": [
    "x_train,x_test,y_train,y_test = train_test_split(X,y,random_state=69,test_size=0.2)"
   ]
  },
  {
   "cell_type": "code",
   "execution_count": 7,
   "id": "d90b492c",
   "metadata": {},
   "outputs": [
    {
     "data": {
      "text/plain": [
       "<10283x16293 sparse matrix of type '<class 'numpy.float64'>'\n",
       "\twith 188319 stored elements in Compressed Sparse Row format>"
      ]
     },
     "execution_count": 7,
     "metadata": {},
     "output_type": "execute_result"
    }
   ],
   "source": [
    "tf = TfidfVectorizer()\n",
    "X_vec = tf.fit_transform(X)\n",
    "x1_train,x1_test,y1_train,y1_test = train_test_split(X_vec,y,random_state=69,test_size=0.2)\n",
    "X_vec"
   ]
  },
  {
   "cell_type": "code",
   "execution_count": 58,
   "id": "24adf348",
   "metadata": {},
   "outputs": [],
   "source": [
    "svc_pipeline = make_pipeline(TfidfVectorizer(min_df=0.001),LinearSVC(C=0.05))"
   ]
  },
  {
   "cell_type": "code",
   "execution_count": 59,
   "id": "57caa852",
   "metadata": {},
   "outputs": [
    {
     "data": {
      "text/plain": [
       "Pipeline(steps=[('tfidfvectorizer', TfidfVectorizer(min_df=0.001)),\n",
       "                ('linearsvc', LinearSVC(C=0.05))])"
      ]
     },
     "execution_count": 59,
     "metadata": {},
     "output_type": "execute_result"
    }
   ],
   "source": [
    "svc_pipeline.fit(x_train,y_train)"
   ]
  },
  {
   "cell_type": "code",
   "execution_count": 60,
   "id": "3d6da0df",
   "metadata": {},
   "outputs": [
    {
     "name": "stdout",
     "output_type": "stream",
     "text": [
      "Train : \n",
      "               precision    recall  f1-score   support\n",
      "\n",
      "        -1.0       0.54      0.89      0.68      1152\n",
      "         0.0       0.83      0.81      0.82      2433\n",
      "         1.0       0.92      0.79      0.85      4641\n",
      "\n",
      "    accuracy                           0.81      8226\n",
      "   macro avg       0.77      0.83      0.78      8226\n",
      "weighted avg       0.84      0.81      0.82      8226\n",
      "\n",
      "Test : \n",
      "               precision    recall  f1-score   support\n",
      "\n",
      "        -1.0       0.44      0.80      0.57       256\n",
      "         0.0       0.73      0.75      0.74       567\n",
      "         1.0       0.89      0.72      0.80      1234\n",
      "\n",
      "    accuracy                           0.74      2057\n",
      "   macro avg       0.69      0.76      0.70      2057\n",
      "weighted avg       0.79      0.74      0.75      2057\n",
      "\n"
     ]
    }
   ],
   "source": [
    "train_pred = svc_pipeline.predict(x_train)\n",
    "test_pred = svc_pipeline.predict(x_test)\n",
    "print('Train : \\n',classification_report(train_pred,y_train))\n",
    "print('Test : \\n',classification_report(test_pred,y_test))"
   ]
  },
  {
   "cell_type": "code",
   "execution_count": 78,
   "id": "37e750fd",
   "metadata": {},
   "outputs": [],
   "source": [
    "def objective(trial,x_train,y_train):\n",
    "    c= trial.suggest_float('C',0,10)\n",
    "    model = svc_pipeline = make_pipeline(TfidfVectorizer(min_df=0.001),LinearSVC(C=c))\n",
    "    score = cross_val_score(model,x_train,y_train,n_jobs=-1,cv=3,scoring='f1_macro')\n",
    "    ap = score.mean()\n",
    "    return ap"
   ]
  },
  {
   "cell_type": "code",
   "execution_count": 79,
   "id": "ff33eed6",
   "metadata": {
    "scrolled": true
   },
   "outputs": [
    {
     "name": "stderr",
     "output_type": "stream",
     "text": [
      "\u001b[32m[I 2022-04-25 20:43:11,546]\u001b[0m A new study created in memory with name: xgb\u001b[0m\n",
      "\u001b[32m[I 2022-04-25 20:43:12,053]\u001b[0m Trial 9 finished with value: 0.7591270661926343 and parameters: {'C': 7.597226060314791}. Best is trial 9 with value: 0.7591270661926343.\u001b[0m\n",
      "\u001b[32m[I 2022-04-25 20:43:12,200]\u001b[0m Trial 2 finished with value: 0.7746294382927088 and parameters: {'C': 1.954250875892386}. Best is trial 2 with value: 0.7746294382927088.\u001b[0m\n",
      "\u001b[32m[I 2022-04-25 20:43:12,431]\u001b[0m Trial 0 finished with value: 0.7691686583586891 and parameters: {'C': 3.7394802156117657}. Best is trial 2 with value: 0.7746294382927088.\u001b[0m\n",
      "\u001b[32m[I 2022-04-25 20:43:12,524]\u001b[0m Trial 6 finished with value: 0.7710826711334708 and parameters: {'C': 0.4963548007527896}. Best is trial 2 with value: 0.7746294382927088.\u001b[0m\n",
      "\u001b[32m[I 2022-04-25 20:43:12,633]\u001b[0m Trial 3 finished with value: 0.7635184707856199 and parameters: {'C': 5.7287722837651325}. Best is trial 2 with value: 0.7746294382927088.\u001b[0m\n",
      "\u001b[32m[I 2022-04-25 20:43:12,652]\u001b[0m Trial 7 finished with value: 0.7772608017518917 and parameters: {'C': 1.150334839382644}. Best is trial 7 with value: 0.7772608017518917.\u001b[0m\n",
      "\u001b[32m[I 2022-04-25 20:43:12,766]\u001b[0m Trial 10 finished with value: 0.7635596019584541 and parameters: {'C': 5.908763653030322}. Best is trial 7 with value: 0.7772608017518917.\u001b[0m\n",
      "\u001b[32m[I 2022-04-25 20:43:12,779]\u001b[0m Trial 1 finished with value: 0.7709393279554515 and parameters: {'C': 0.5101445443574804}. Best is trial 7 with value: 0.7772608017518917.\u001b[0m\n",
      "\u001b[32m[I 2022-04-25 20:43:12,809]\u001b[0m Trial 4 finished with value: 0.7644606067578473 and parameters: {'C': 5.374625151868936}. Best is trial 7 with value: 0.7772608017518917.\u001b[0m\n",
      "\u001b[32m[I 2022-04-25 20:43:12,832]\u001b[0m Trial 11 finished with value: 0.7624740812797919 and parameters: {'C': 6.468582422267386}. Best is trial 7 with value: 0.7772608017518917.\u001b[0m\n",
      "\u001b[32m[I 2022-04-25 20:43:12,836]\u001b[0m Trial 5 finished with value: 0.7555299351354182 and parameters: {'C': 9.381954150637076}. Best is trial 7 with value: 0.7772608017518917.\u001b[0m\n",
      "\u001b[32m[I 2022-04-25 20:43:12,918]\u001b[0m Trial 8 finished with value: 0.7580291336302762 and parameters: {'C': 7.995238862174028}. Best is trial 7 with value: 0.7772608017518917.\u001b[0m\n",
      "\u001b[32m[I 2022-04-25 20:43:13,163]\u001b[0m Trial 14 finished with value: 0.7728176839837088 and parameters: {'C': 2.5388742302188625}. Best is trial 7 with value: 0.7772608017518917.\u001b[0m\n",
      "\u001b[32m[I 2022-04-25 20:43:13,183]\u001b[0m Trial 12 finished with value: 0.7554261512822319 and parameters: {'C': 9.427591747772976}. Best is trial 7 with value: 0.7772608017518917.\u001b[0m\n",
      "\u001b[32m[I 2022-04-25 20:43:13,212]\u001b[0m Trial 13 finished with value: 0.7655643762588272 and parameters: {'C': 4.99326541541523}. Best is trial 7 with value: 0.7772608017518917.\u001b[0m\n",
      "\u001b[32m[I 2022-04-25 20:43:13,307]\u001b[0m Trial 15 finished with value: 0.7650733249695084 and parameters: {'C': 5.341486038900536}. Best is trial 7 with value: 0.7772608017518917.\u001b[0m\n",
      "\u001b[32m[I 2022-04-25 20:43:13,450]\u001b[0m Trial 17 finished with value: 0.7677196129734591 and parameters: {'C': 0.39918218121079097}. Best is trial 7 with value: 0.7772608017518917.\u001b[0m\n",
      "\u001b[32m[I 2022-04-25 20:43:13,698]\u001b[0m Trial 16 finished with value: 0.7555299351354182 and parameters: {'C': 9.382134984202931}. Best is trial 7 with value: 0.7772608017518917.\u001b[0m\n",
      "\u001b[32m[I 2022-04-25 20:43:13,717]\u001b[0m Trial 19 finished with value: 0.7637733638439131 and parameters: {'C': 5.586244176436304}. Best is trial 7 with value: 0.7772608017518917.\u001b[0m\n",
      "\u001b[32m[I 2022-04-25 20:43:13,747]\u001b[0m Trial 18 finished with value: 0.7556507152803728 and parameters: {'C': 9.300289122019084}. Best is trial 7 with value: 0.7772608017518917.\u001b[0m\n",
      "\u001b[32m[I 2022-04-25 20:43:13,796]\u001b[0m Trial 20 finished with value: 0.7738871970020883 and parameters: {'C': 2.0872288983809284}. Best is trial 7 with value: 0.7772608017518917.\u001b[0m\n",
      "\u001b[32m[I 2022-04-25 20:43:13,983]\u001b[0m Trial 21 finished with value: 0.7720673978295896 and parameters: {'C': 2.9333621437982256}. Best is trial 7 with value: 0.7772608017518917.\u001b[0m\n",
      "\u001b[32m[I 2022-04-25 20:43:14,030]\u001b[0m Trial 22 finished with value: 0.7728953114372983 and parameters: {'C': 2.8007593656936827}. Best is trial 7 with value: 0.7772608017518917.\u001b[0m\n",
      "\u001b[32m[I 2022-04-25 20:43:14,074]\u001b[0m Trial 23 finished with value: 0.7728953114372983 and parameters: {'C': 2.803087106508438}. Best is trial 7 with value: 0.7772608017518917.\u001b[0m\n",
      "\u001b[32m[I 2022-04-25 20:43:14,120]\u001b[0m Trial 24 finished with value: 0.7733120815387423 and parameters: {'C': 2.606520036955237}. Best is trial 7 with value: 0.7772608017518917.\u001b[0m\n",
      "\u001b[32m[I 2022-04-25 20:43:14,274]\u001b[0m Trial 25 finished with value: 0.774092160115702 and parameters: {'C': 2.0658489968206637}. Best is trial 7 with value: 0.7772608017518917.\u001b[0m\n",
      "\u001b[32m[I 2022-04-25 20:43:14,364]\u001b[0m Trial 27 finished with value: 0.7749785481708273 and parameters: {'C': 1.7863521461419427}. Best is trial 7 with value: 0.7772608017518917.\u001b[0m\n",
      "\u001b[32m[I 2022-04-25 20:43:14,386]\u001b[0m Trial 26 finished with value: 0.7729261133543427 and parameters: {'C': 2.167720125379267}. Best is trial 7 with value: 0.7772608017518917.\u001b[0m\n",
      "\u001b[32m[I 2022-04-25 20:43:14,435]\u001b[0m Trial 28 finished with value: 0.7735924223537923 and parameters: {'C': 2.132075552691842}. Best is trial 7 with value: 0.7772608017518917.\u001b[0m\n",
      "\u001b[32m[I 2022-04-25 20:43:14,596]\u001b[0m Trial 29 finished with value: 0.7743293814508698 and parameters: {'C': 1.976171309595518}. Best is trial 7 with value: 0.7772608017518917.\u001b[0m\n",
      "\u001b[32m[I 2022-04-25 20:43:14,647]\u001b[0m Trial 30 finished with value: 0.7747425531828557 and parameters: {'C': 1.9492918527824523}. Best is trial 7 with value: 0.7772608017518917.\u001b[0m\n",
      "\u001b[32m[I 2022-04-25 20:43:14,695]\u001b[0m Trial 31 finished with value: 0.774234707771519 and parameters: {'C': 1.831140184480919}. Best is trial 7 with value: 0.7772608017518917.\u001b[0m\n",
      "\u001b[32m[I 2022-04-25 20:43:14,744]\u001b[0m Trial 32 finished with value: 0.7718404535807589 and parameters: {'C': 2.3642783943180836}. Best is trial 7 with value: 0.7772608017518917.\u001b[0m\n",
      "\u001b[32m[I 2022-04-25 20:43:14,903]\u001b[0m Trial 33 finished with value: 0.7764411512061101 and parameters: {'C': 1.6056305330763938}. Best is trial 7 with value: 0.7772608017518917.\u001b[0m\n",
      "\u001b[32m[I 2022-04-25 20:43:14,948]\u001b[0m Trial 34 finished with value: 0.7763550757667322 and parameters: {'C': 1.5730887152606923}. Best is trial 7 with value: 0.7772608017518917.\u001b[0m\n",
      "\u001b[32m[I 2022-04-25 20:43:15,021]\u001b[0m Trial 35 finished with value: 0.7758558645567927 and parameters: {'C': 1.674341950990585}. Best is trial 7 with value: 0.7772608017518917.\u001b[0m\n",
      "\u001b[32m[I 2022-04-25 20:43:15,060]\u001b[0m Trial 36 finished with value: 0.7745535982748328 and parameters: {'C': 1.8742691751691791}. Best is trial 7 with value: 0.7772608017518917.\u001b[0m\n",
      "\u001b[32m[I 2022-04-25 20:43:15,193]\u001b[0m Trial 37 finished with value: 0.7765926653386819 and parameters: {'C': 1.4443745834375994}. Best is trial 7 with value: 0.7772608017518917.\u001b[0m\n",
      "\u001b[32m[I 2022-04-25 20:43:15,221]\u001b[0m Trial 38 finished with value: 0.7766135507208786 and parameters: {'C': 1.3491124798528078}. Best is trial 7 with value: 0.7772608017518917.\u001b[0m\n",
      "\u001b[32m[I 2022-04-25 20:43:15,306]\u001b[0m Trial 39 finished with value: 0.7771864347529277 and parameters: {'C': 1.3162572043273386}. Best is trial 7 with value: 0.7772608017518917.\u001b[0m\n",
      "\u001b[32m[I 2022-04-25 20:43:15,448]\u001b[0m Trial 40 finished with value: 0.7679092073105132 and parameters: {'C': 4.266275323481245}. Best is trial 7 with value: 0.7772608017518917.\u001b[0m\n",
      "\u001b[32m[I 2022-04-25 20:43:15,497]\u001b[0m Trial 42 finished with value: 0.7777371749895198 and parameters: {'C': 1.1666138614082024}. Best is trial 42 with value: 0.7777371749895198.\u001b[0m\n",
      "\u001b[32m[I 2022-04-25 20:43:15,536]\u001b[0m Trial 41 finished with value: 0.7682606347090063 and parameters: {'C': 4.181475701953822}. Best is trial 42 with value: 0.7777371749895198.\u001b[0m\n",
      "\u001b[32m[I 2022-04-25 20:43:15,631]\u001b[0m Trial 43 finished with value: 0.7766034408151202 and parameters: {'C': 1.2110616447806142}. Best is trial 42 with value: 0.7777371749895198.\u001b[0m\n",
      "\u001b[32m[I 2022-04-25 20:43:15,726]\u001b[0m Trial 44 finished with value: 0.7770863105195839 and parameters: {'C': 1.115344210890774}. Best is trial 42 with value: 0.7777371749895198.\u001b[0m\n"
     ]
    },
    {
     "name": "stderr",
     "output_type": "stream",
     "text": [
      "\u001b[32m[I 2022-04-25 20:43:15,775]\u001b[0m Trial 45 finished with value: 0.7772608017518917 and parameters: {'C': 1.1453617580426396}. Best is trial 42 with value: 0.7777371749895198.\u001b[0m\n",
      "\u001b[32m[I 2022-04-25 20:43:15,809]\u001b[0m Trial 46 finished with value: 0.7772320287105376 and parameters: {'C': 1.0623809878496102}. Best is trial 42 with value: 0.7777371749895198.\u001b[0m\n",
      "\u001b[32m[I 2022-04-25 20:43:15,925]\u001b[0m Trial 47 finished with value: 0.7763126609030069 and parameters: {'C': 1.037624421865695}. Best is trial 42 with value: 0.7777371749895198.\u001b[0m\n",
      "\u001b[32m[I 2022-04-25 20:43:15,997]\u001b[0m Trial 48 finished with value: 0.7754046668533886 and parameters: {'C': 0.9436502770059808}. Best is trial 42 with value: 0.7777371749895198.\u001b[0m\n",
      "\u001b[32m[I 2022-04-25 20:43:16,046]\u001b[0m Trial 49 finished with value: 0.7767073755359251 and parameters: {'C': 1.1242530585090043}. Best is trial 42 with value: 0.7777371749895198.\u001b[0m\n",
      "\u001b[32m[I 2022-04-25 20:43:16,096]\u001b[0m Trial 50 finished with value: 0.7764294168824932 and parameters: {'C': 1.0416969223024115}. Best is trial 42 with value: 0.7777371749895198.\u001b[0m\n",
      "\u001b[32m[I 2022-04-25 20:43:16,219]\u001b[0m Trial 51 finished with value: 0.7767073755359251 and parameters: {'C': 1.1250779868542637}. Best is trial 42 with value: 0.7777371749895198.\u001b[0m\n",
      "\u001b[32m[I 2022-04-25 20:43:16,272]\u001b[0m Trial 52 finished with value: 0.7770542987597077 and parameters: {'C': 1.0602337846565355}. Best is trial 42 with value: 0.7777371749895198.\u001b[0m\n",
      "\u001b[32m[I 2022-04-25 20:43:16,314]\u001b[0m Trial 53 finished with value: 0.7765449197317172 and parameters: {'C': 1.0431505204429452}. Best is trial 42 with value: 0.7777371749895198.\u001b[0m\n",
      "\u001b[32m[I 2022-04-25 20:43:16,403]\u001b[0m Trial 54 finished with value: 0.7766573293248348 and parameters: {'C': 1.0500055068520653}. Best is trial 42 with value: 0.7777371749895198.\u001b[0m\n",
      "\u001b[32m[I 2022-04-25 20:43:16,516]\u001b[0m Trial 55 finished with value: 0.7758158898051902 and parameters: {'C': 0.9681063808107193}. Best is trial 42 with value: 0.7777371749895198.\u001b[0m\n",
      "\u001b[32m[I 2022-04-25 20:43:16,551]\u001b[0m Trial 57 finished with value: 0.5125985965585027 and parameters: {'C': 0.01552436678308955}. Best is trial 42 with value: 0.7777371749895198.\u001b[0m\n",
      "\u001b[32m[I 2022-04-25 20:43:16,584]\u001b[0m Trial 56 finished with value: 0.7743171452038314 and parameters: {'C': 0.8283790183979782}. Best is trial 42 with value: 0.7777371749895198.\u001b[0m\n",
      "\u001b[32m[I 2022-04-25 20:43:16,673]\u001b[0m Trial 58 finished with value: 0.7340361179107044 and parameters: {'C': 0.12997991246871177}. Best is trial 42 with value: 0.7777371749895198.\u001b[0m\n",
      "\u001b[32m[I 2022-04-25 20:43:16,747]\u001b[0m Trial 59 finished with value: 0.7010857735317993 and parameters: {'C': 0.07157901620240881}. Best is trial 42 with value: 0.7777371749895198.\u001b[0m\n",
      "\u001b[32m[I 2022-04-25 20:43:16,800]\u001b[0m Trial 61 finished with value: 0.4975958169128169 and parameters: {'C': 0.014501783259554868}. Best is trial 42 with value: 0.7777371749895198.\u001b[0m\n",
      "\u001b[32m[I 2022-04-25 20:43:16,828]\u001b[0m Trial 60 finished with value: 0.6206768520820023 and parameters: {'C': 0.030169683441549466}. Best is trial 42 with value: 0.7777371749895198.\u001b[0m\n",
      "\u001b[32m[I 2022-04-25 20:43:16,910]\u001b[0m Trial 62 finished with value: 0.7314729522554672 and parameters: {'C': 0.12263235106294679}. Best is trial 42 with value: 0.7777371749895198.\u001b[0m\n",
      "\u001b[32m[I 2022-04-25 20:43:17,024]\u001b[0m Trial 63 finished with value: 0.7631449121602252 and parameters: {'C': 0.3061073886051452}. Best is trial 42 with value: 0.7777371749895198.\u001b[0m\n",
      "\u001b[32m[I 2022-04-25 20:43:17,034]\u001b[0m Trial 64 finished with value: 0.7383352720499529 and parameters: {'C': 0.13992259630950254}. Best is trial 42 with value: 0.7777371749895198.\u001b[0m\n",
      "\u001b[32m[I 2022-04-25 20:43:17,090]\u001b[0m Trial 65 finished with value: 0.7687627678389407 and parameters: {'C': 0.4123127143407037}. Best is trial 42 with value: 0.7777371749895198.\u001b[0m\n",
      "\u001b[32m[I 2022-04-25 20:43:17,146]\u001b[0m Trial 66 finished with value: 0.5130907792227899 and parameters: {'C': 0.015600490200905925}. Best is trial 42 with value: 0.7777371749895198.\u001b[0m\n",
      "\u001b[32m[I 2022-04-25 20:43:17,248]\u001b[0m Trial 67 finished with value: 0.41315434001561724 and parameters: {'C': 0.009178860974679015}. Best is trial 42 with value: 0.7777371749895198.\u001b[0m\n",
      "\u001b[32m[I 2022-04-25 20:43:17,395]\u001b[0m Trial 68 finished with value: 0.7706671376373707 and parameters: {'C': 3.26677289231303}. Best is trial 42 with value: 0.7777371749895198.\u001b[0m\n",
      "\u001b[32m[I 2022-04-25 20:43:17,430]\u001b[0m Trial 70 finished with value: 0.7712044382584686 and parameters: {'C': 0.5168775933722132}. Best is trial 42 with value: 0.7777371749895198.\u001b[0m\n",
      "\u001b[32m[I 2022-04-25 20:43:17,432]\u001b[0m Trial 69 finished with value: 0.770899339753672 and parameters: {'C': 3.4382832950242874}. Best is trial 42 with value: 0.7777371749895198.\u001b[0m\n",
      "\u001b[32m[I 2022-04-25 20:43:17,580]\u001b[0m Trial 71 finished with value: 0.7712710000007531 and parameters: {'C': 3.4043164782989925}. Best is trial 42 with value: 0.7777371749895198.\u001b[0m\n",
      "\u001b[32m[I 2022-04-25 20:43:17,665]\u001b[0m Trial 72 finished with value: 0.7725443767951967 and parameters: {'C': 0.6673814647832232}. Best is trial 42 with value: 0.7777371749895198.\u001b[0m\n",
      "\u001b[32m[I 2022-04-25 20:43:17,693]\u001b[0m Trial 73 finished with value: 0.7717511690811113 and parameters: {'C': 0.5751896070797015}. Best is trial 42 with value: 0.7777371749895198.\u001b[0m\n",
      "\u001b[32m[I 2022-04-25 20:43:17,716]\u001b[0m Trial 74 finished with value: 0.7715414384015181 and parameters: {'C': 0.5847229435411316}. Best is trial 42 with value: 0.7777371749895198.\u001b[0m\n",
      "\u001b[32m[I 2022-04-25 20:43:17,895]\u001b[0m Trial 76 finished with value: 0.7709226562600127 and parameters: {'C': 0.5026457439695121}. Best is trial 42 with value: 0.7777371749895198.\u001b[0m\n",
      "\u001b[32m[I 2022-04-25 20:43:17,948]\u001b[0m Trial 75 finished with value: 0.7706438268881276 and parameters: {'C': 3.579136648902152}. Best is trial 42 with value: 0.7777371749895198.\u001b[0m\n",
      "\u001b[32m[I 2022-04-25 20:43:17,971]\u001b[0m Trial 77 finished with value: 0.7743156268613034 and parameters: {'C': 0.7029942662982818}. Best is trial 42 with value: 0.7777371749895198.\u001b[0m\n",
      "\u001b[32m[I 2022-04-25 20:43:18,008]\u001b[0m Trial 78 finished with value: 0.7730998150709857 and parameters: {'C': 0.6739861042037882}. Best is trial 42 with value: 0.7777371749895198.\u001b[0m\n",
      "\u001b[32m[I 2022-04-25 20:43:18,152]\u001b[0m Trial 79 finished with value: 0.7742111159889161 and parameters: {'C': 0.7395343556825518}. Best is trial 42 with value: 0.7777371749895198.\u001b[0m\n",
      "\u001b[32m[I 2022-04-25 20:43:18,205]\u001b[0m Trial 80 finished with value: 0.7742026973427806 and parameters: {'C': 0.7112443804023886}. Best is trial 42 with value: 0.7777371749895198.\u001b[0m\n",
      "\u001b[32m[I 2022-04-25 20:43:18,231]\u001b[0m Trial 82 finished with value: 0.7740441047701885 and parameters: {'C': 0.719364744080127}. Best is trial 42 with value: 0.7777371749895198.\u001b[0m\n",
      "\u001b[32m[I 2022-04-25 20:43:18,293]\u001b[0m Trial 81 finished with value: 0.772869234324519 and parameters: {'C': 0.6696691126303369}. Best is trial 42 with value: 0.7777371749895198.\u001b[0m\n",
      "\u001b[32m[I 2022-04-25 20:43:18,415]\u001b[0m Trial 83 finished with value: 0.7741074444482431 and parameters: {'C': 0.7757216184598488}. Best is trial 42 with value: 0.7777371749895198.\u001b[0m\n",
      "\u001b[32m[I 2022-04-25 20:43:18,476]\u001b[0m Trial 84 finished with value: 0.7742026973427806 and parameters: {'C': 0.7131968978523233}. Best is trial 42 with value: 0.7777371749895198.\u001b[0m\n",
      "\u001b[32m[I 2022-04-25 20:43:18,584]\u001b[0m Trial 86 finished with value: 0.7768731949082902 and parameters: {'C': 1.359847438920581}. Best is trial 42 with value: 0.7777371749895198.\u001b[0m\n",
      "\u001b[32m[I 2022-04-25 20:43:18,702]\u001b[0m Trial 85 finished with value: 0.7605530523880021 and parameters: {'C': 6.936852274380927}. Best is trial 42 with value: 0.7777371749895198.\u001b[0m\n",
      "\u001b[32m[I 2022-04-25 20:43:18,730]\u001b[0m Trial 87 finished with value: 0.7771291358111484 and parameters: {'C': 1.4181339073848294}. Best is trial 42 with value: 0.7777371749895198.\u001b[0m\n",
      "\u001b[32m[I 2022-04-25 20:43:18,783]\u001b[0m Trial 88 finished with value: 0.776898922027469 and parameters: {'C': 1.3879933035626366}. Best is trial 42 with value: 0.7777371749895198.\u001b[0m\n",
      "\u001b[32m[I 2022-04-25 20:43:19,065]\u001b[0m Trial 89 finished with value: 0.7591270661926343 and parameters: {'C': 7.567280953921296}. Best is trial 42 with value: 0.7777371749895198.\u001b[0m\n"
     ]
    },
    {
     "name": "stderr",
     "output_type": "stream",
     "text": [
      "\u001b[32m[I 2022-04-25 20:43:19,084]\u001b[0m Trial 92 finished with value: 0.776499444334423 and parameters: {'C': 1.3461974533668308}. Best is trial 42 with value: 0.7777371749895198.\u001b[0m\n",
      "\u001b[32m[I 2022-04-25 20:43:19,157]\u001b[0m Trial 90 finished with value: 0.7606975333035831 and parameters: {'C': 6.906079334574127}. Best is trial 42 with value: 0.7777371749895198.\u001b[0m\n",
      "\u001b[32m[I 2022-04-25 20:43:19,186]\u001b[0m Trial 91 finished with value: 0.7602309359543495 and parameters: {'C': 7.208659949342216}. Best is trial 42 with value: 0.7777371749895198.\u001b[0m\n",
      "\u001b[32m[I 2022-04-25 20:43:19,328]\u001b[0m Trial 93 finished with value: 0.7768121807700578 and parameters: {'C': 1.2952807033230518}. Best is trial 42 with value: 0.7777371749895198.\u001b[0m\n",
      "\u001b[32m[I 2022-04-25 20:43:19,369]\u001b[0m Trial 94 finished with value: 0.7767691354088676 and parameters: {'C': 1.3536066777680487}. Best is trial 42 with value: 0.7777371749895198.\u001b[0m\n",
      "\u001b[32m[I 2022-04-25 20:43:19,558]\u001b[0m Trial 95 finished with value: 0.7603983534675574 and parameters: {'C': 6.94182550803698}. Best is trial 42 with value: 0.7777371749895198.\u001b[0m\n",
      "\u001b[32m[I 2022-04-25 20:43:19,622]\u001b[0m Trial 97 finished with value: 0.7766135507208786 and parameters: {'C': 1.347508017318857}. Best is trial 42 with value: 0.7777371749895198.\u001b[0m\n",
      "\u001b[32m[I 2022-04-25 20:43:19,631]\u001b[0m Trial 96 finished with value: 0.7609637843676019 and parameters: {'C': 6.817074791192631}. Best is trial 42 with value: 0.7777371749895198.\u001b[0m\n",
      "\u001b[32m[I 2022-04-25 20:43:19,652]\u001b[0m Trial 98 finished with value: 0.7772432226222031 and parameters: {'C': 1.4100448298017045}. Best is trial 42 with value: 0.7777371749895198.\u001b[0m\n",
      "\u001b[32m[I 2022-04-25 20:43:19,763]\u001b[0m Trial 99 finished with value: 0.7769934433334416 and parameters: {'C': 1.4256142471154578}. Best is trial 42 with value: 0.7777371749895198.\u001b[0m\n"
     ]
    }
   ],
   "source": [
    "study = optuna.create_study(direction='maximize',study_name='xgb')\n",
    "func = lambda trial: objective(trial, x_train, y_train)\n",
    "study.optimize(func,n_trials=100,n_jobs=-1)"
   ]
  },
  {
   "cell_type": "code",
   "execution_count": 80,
   "id": "05274485",
   "metadata": {},
   "outputs": [
    {
     "data": {
      "text/plain": [
       "{'C': 1.1666138614082024}"
      ]
     },
     "execution_count": 80,
     "metadata": {},
     "output_type": "execute_result"
    }
   ],
   "source": [
    "study.best_params"
   ]
  },
  {
   "cell_type": "code",
   "execution_count": 81,
   "id": "cb0f45d4",
   "metadata": {},
   "outputs": [
    {
     "name": "stdout",
     "output_type": "stream",
     "text": [
      "Train : \n",
      "               precision    recall  f1-score   support\n",
      "\n",
      "        -1.0       0.82      0.92      0.87      1689\n",
      "         0.0       0.97      0.91      0.94      2522\n",
      "         1.0       0.95      0.94      0.94      4015\n",
      "\n",
      "    accuracy                           0.92      8226\n",
      "   macro avg       0.91      0.92      0.92      8226\n",
      "weighted avg       0.93      0.92      0.93      8226\n",
      "\n",
      "Test : \n",
      "               precision    recall  f1-score   support\n",
      "\n",
      "        -1.0       0.67      0.78      0.72       405\n",
      "         0.0       0.88      0.83      0.85       618\n",
      "         1.0       0.88      0.86      0.87      1034\n",
      "\n",
      "    accuracy                           0.83      2057\n",
      "   macro avg       0.81      0.82      0.81      2057\n",
      "weighted avg       0.84      0.83      0.84      2057\n",
      "\n"
     ]
    }
   ],
   "source": [
    "svc_pipeline = make_pipeline(TfidfVectorizer(min_df=0.001),LinearSVC(C=1.166))\n",
    "svc_pipeline.fit(x_train,y_train)\n",
    "train_pred = svc_pipeline.predict(x_train)\n",
    "test_pred = svc_pipeline.predict(x_test)\n",
    "print('Train : \\n',classification_report(train_pred,y_train))\n",
    "print('Test : \\n',classification_report(test_pred,y_test))"
   ]
  },
  {
   "cell_type": "code",
   "execution_count": 89,
   "id": "af5a3553",
   "metadata": {},
   "outputs": [
    {
     "data": {
      "text/plain": [
       "0.7777371749895198"
      ]
     },
     "execution_count": 89,
     "metadata": {},
     "output_type": "execute_result"
    }
   ],
   "source": [
    "cvs = cross_val_score(svc_pipeline,x_train,y_train,cv=3,n_jobs=-1,scoring='f1_macro').mean()\n",
    "cvs"
   ]
  },
  {
   "cell_type": "code",
   "execution_count": 15,
   "id": "06d57149",
   "metadata": {},
   "outputs": [
    {
     "data": {
      "text/plain": [
       "Pipeline(steps=[('tfidfvectorizer', TfidfVectorizer(min_df=0.001)),\n",
       "                ('randomforestclassifier',\n",
       "                 RandomForestClassifier(max_depth=70, n_estimators=200))])"
      ]
     },
     "execution_count": 15,
     "metadata": {},
     "output_type": "execute_result"
    }
   ],
   "source": [
    "rfc_pipeline = make_pipeline(TfidfVectorizer(min_df=0.001),RandomForestClassifier(n_estimators=200,max_depth=70))\n",
    "rfc_pipeline.fit(x_train,y_train)"
   ]
  },
  {
   "cell_type": "code",
   "execution_count": 18,
   "id": "09657fb2",
   "metadata": {},
   "outputs": [
    {
     "data": {
      "text/plain": [
       "dict_keys(['memory', 'steps', 'verbose', 'tfidfvectorizer', 'randomforestclassifier', 'tfidfvectorizer__analyzer', 'tfidfvectorizer__binary', 'tfidfvectorizer__decode_error', 'tfidfvectorizer__dtype', 'tfidfvectorizer__encoding', 'tfidfvectorizer__input', 'tfidfvectorizer__lowercase', 'tfidfvectorizer__max_df', 'tfidfvectorizer__max_features', 'tfidfvectorizer__min_df', 'tfidfvectorizer__ngram_range', 'tfidfvectorizer__norm', 'tfidfvectorizer__preprocessor', 'tfidfvectorizer__smooth_idf', 'tfidfvectorizer__stop_words', 'tfidfvectorizer__strip_accents', 'tfidfvectorizer__sublinear_tf', 'tfidfvectorizer__token_pattern', 'tfidfvectorizer__tokenizer', 'tfidfvectorizer__use_idf', 'tfidfvectorizer__vocabulary', 'randomforestclassifier__bootstrap', 'randomforestclassifier__ccp_alpha', 'randomforestclassifier__class_weight', 'randomforestclassifier__criterion', 'randomforestclassifier__max_depth', 'randomforestclassifier__max_features', 'randomforestclassifier__max_leaf_nodes', 'randomforestclassifier__max_samples', 'randomforestclassifier__min_impurity_decrease', 'randomforestclassifier__min_samples_leaf', 'randomforestclassifier__min_samples_split', 'randomforestclassifier__min_weight_fraction_leaf', 'randomforestclassifier__n_estimators', 'randomforestclassifier__n_jobs', 'randomforestclassifier__oob_score', 'randomforestclassifier__random_state', 'randomforestclassifier__verbose', 'randomforestclassifier__warm_start'])"
      ]
     },
     "execution_count": 18,
     "metadata": {},
     "output_type": "execute_result"
    }
   ],
   "source": [
    "rfc_pipeline.get_params().keys()"
   ]
  },
  {
   "cell_type": "code",
   "execution_count": 20,
   "id": "d116bf86",
   "metadata": {
    "scrolled": true
   },
   "outputs": [
    {
     "name": "stderr",
     "output_type": "stream",
     "text": [
      "\u001b[32m[I 2022-04-26 09:23:51,115]\u001b[0m A new study created in memory with name: xgb\u001b[0m\n",
      "\u001b[32m[I 2022-04-26 09:23:55,130]\u001b[0m Trial 3 finished with value: 0.6859063502753214 and parameters: {'randomforestclassifier__n_estimators': 133, 'randomforestclassifier__max_depth': 114}. Best is trial 3 with value: 0.6859063502753214.\u001b[0m\n",
      "\u001b[32m[I 2022-04-26 09:23:56,507]\u001b[0m Trial 1 finished with value: 0.686027011518973 and parameters: {'randomforestclassifier__n_estimators': 172, 'randomforestclassifier__max_depth': 189}. Best is trial 1 with value: 0.686027011518973.\u001b[0m\n",
      "\u001b[32m[I 2022-04-26 09:24:11,408]\u001b[0m Trial 9 finished with value: 0.6849725806406054 and parameters: {'randomforestclassifier__n_estimators': 256, 'randomforestclassifier__max_depth': 463}. Best is trial 1 with value: 0.686027011518973.\u001b[0m\n",
      "\u001b[32m[I 2022-04-26 09:24:15,432]\u001b[0m Trial 10 finished with value: 0.6935788817642922 and parameters: {'randomforestclassifier__n_estimators': 78, 'randomforestclassifier__max_depth': 370}. Best is trial 10 with value: 0.6935788817642922.\u001b[0m\n",
      "\u001b[32m[I 2022-04-26 09:24:16,068]\u001b[0m Trial 4 finished with value: 0.6862615531030967 and parameters: {'randomforestclassifier__n_estimators': 194, 'randomforestclassifier__max_depth': 401}. Best is trial 10 with value: 0.6935788817642922.\u001b[0m\n",
      "\u001b[32m[I 2022-04-26 09:24:17,569]\u001b[0m Trial 5 finished with value: 0.6850131059916053 and parameters: {'randomforestclassifier__n_estimators': 680, 'randomforestclassifier__max_depth': 976}. Best is trial 10 with value: 0.6935788817642922.\u001b[0m\n",
      "\u001b[32m[I 2022-04-26 09:24:18,570]\u001b[0m Trial 11 finished with value: 0.6797158588956139 and parameters: {'randomforestclassifier__n_estimators': 207, 'randomforestclassifier__max_depth': 91}. Best is trial 10 with value: 0.6935788817642922.\u001b[0m\n",
      "\u001b[32m[I 2022-04-26 09:24:23,327]\u001b[0m Trial 0 finished with value: 0.6866320290436781 and parameters: {'randomforestclassifier__n_estimators': 325, 'randomforestclassifier__max_depth': 842}. Best is trial 10 with value: 0.6935788817642922.\u001b[0m\n",
      "\u001b[32m[I 2022-04-26 09:24:24,719]\u001b[0m Trial 2 finished with value: 0.6860406299794413 and parameters: {'randomforestclassifier__n_estimators': 293, 'randomforestclassifier__max_depth': 449}. Best is trial 10 with value: 0.6935788817642922.\u001b[0m\n",
      "\u001b[32m[I 2022-04-26 09:24:24,806]\u001b[0m Trial 6 finished with value: 0.6504335967728839 and parameters: {'randomforestclassifier__n_estimators': 864, 'randomforestclassifier__max_depth': 33}. Best is trial 10 with value: 0.6935788817642922.\u001b[0m\n",
      "\u001b[32m[I 2022-04-26 09:24:24,817]\u001b[0m Trial 13 finished with value: 0.6847905925297063 and parameters: {'randomforestclassifier__n_estimators': 196, 'randomforestclassifier__max_depth': 981}. Best is trial 10 with value: 0.6935788817642922.\u001b[0m\n",
      "\u001b[32m[I 2022-04-26 09:24:27,281]\u001b[0m Trial 8 finished with value: 0.6862355888672811 and parameters: {'randomforestclassifier__n_estimators': 676, 'randomforestclassifier__max_depth': 530}. Best is trial 10 with value: 0.6935788817642922.\u001b[0m\n",
      "\u001b[32m[I 2022-04-26 09:24:29,694]\u001b[0m Trial 7 finished with value: 0.6827922651341454 and parameters: {'randomforestclassifier__n_estimators': 565, 'randomforestclassifier__max_depth': 115}. Best is trial 10 with value: 0.6935788817642922.\u001b[0m\n",
      "\u001b[32m[I 2022-04-26 09:24:29,736]\u001b[0m Trial 16 finished with value: 0.6827029957807218 and parameters: {'randomforestclassifier__n_estimators': 24, 'randomforestclassifier__max_depth': 654}. Best is trial 10 with value: 0.6935788817642922.\u001b[0m\n",
      "\u001b[32m[I 2022-04-26 09:24:31,673]\u001b[0m Trial 17 finished with value: 0.6691192787512371 and parameters: {'randomforestclassifier__n_estimators': 73, 'randomforestclassifier__max_depth': 67}. Best is trial 10 with value: 0.6935788817642922.\u001b[0m\n",
      "\u001b[32m[I 2022-04-26 09:24:35,321]\u001b[0m Trial 12 finished with value: 0.6859794222630365 and parameters: {'randomforestclassifier__n_estimators': 564, 'randomforestclassifier__max_depth': 227}. Best is trial 10 with value: 0.6935788817642922.\u001b[0m\n",
      "\u001b[32m[I 2022-04-26 09:24:45,754]\u001b[0m Trial 19 finished with value: 0.6852171216455208 and parameters: {'randomforestclassifier__n_estimators': 330, 'randomforestclassifier__max_depth': 968}. Best is trial 10 with value: 0.6935788817642922.\u001b[0m\n",
      "\u001b[32m[I 2022-04-26 09:24:50,576]\u001b[0m Trial 15 finished with value: 0.6917746040028211 and parameters: {'randomforestclassifier__n_estimators': 806, 'randomforestclassifier__max_depth': 580}. Best is trial 10 with value: 0.6935788817642922.\u001b[0m\n",
      "\u001b[32m[I 2022-04-26 09:24:50,587]\u001b[0m Trial 14 finished with value: 0.6826091374151894 and parameters: {'randomforestclassifier__n_estimators': 805, 'randomforestclassifier__max_depth': 448}. Best is trial 10 with value: 0.6935788817642922.\u001b[0m\n",
      "\u001b[32m[I 2022-04-26 09:24:55,467]\u001b[0m Trial 18 finished with value: 0.685110160065527 and parameters: {'randomforestclassifier__n_estimators': 758, 'randomforestclassifier__max_depth': 408}. Best is trial 10 with value: 0.6935788817642922.\u001b[0m\n",
      "\u001b[32m[I 2022-04-26 09:24:56,102]\u001b[0m Trial 23 finished with value: 0.6719585332838679 and parameters: {'randomforestclassifier__n_estimators': 13, 'randomforestclassifier__max_depth': 714}. Best is trial 10 with value: 0.6935788817642922.\u001b[0m\n",
      "\u001b[32m[I 2022-04-26 09:24:57,230]\u001b[0m Trial 24 finished with value: 0.6849937577169899 and parameters: {'randomforestclassifier__n_estimators': 30, 'randomforestclassifier__max_depth': 775}. Best is trial 10 with value: 0.6935788817642922.\u001b[0m\n",
      "\u001b[32m[I 2022-04-26 09:25:04,984]\u001b[0m Trial 22 finished with value: 0.6893029723606009 and parameters: {'randomforestclassifier__n_estimators': 457, 'randomforestclassifier__max_depth': 765}. Best is trial 10 with value: 0.6935788817642922.\u001b[0m\n",
      "\u001b[32m[I 2022-04-26 09:25:07,114]\u001b[0m Trial 21 finished with value: 0.6863158027504436 and parameters: {'randomforestclassifier__n_estimators': 541, 'randomforestclassifier__max_depth': 692}. Best is trial 10 with value: 0.6935788817642922.\u001b[0m\n",
      "\u001b[32m[I 2022-04-26 09:25:09,182]\u001b[0m Trial 25 finished with value: 0.6844143678731331 and parameters: {'randomforestclassifier__n_estimators': 382, 'randomforestclassifier__max_depth': 770}. Best is trial 10 with value: 0.6935788817642922.\u001b[0m\n",
      "\u001b[32m[I 2022-04-26 09:25:13,840]\u001b[0m Trial 20 finished with value: 0.6856381850806811 and parameters: {'randomforestclassifier__n_estimators': 890, 'randomforestclassifier__max_depth': 864}. Best is trial 10 with value: 0.6935788817642922.\u001b[0m\n",
      "\u001b[32m[I 2022-04-26 09:25:17,135]\u001b[0m Trial 26 finished with value: 0.6841711225072001 and parameters: {'randomforestclassifier__n_estimators': 389, 'randomforestclassifier__max_depth': 743}. Best is trial 10 with value: 0.6935788817642922.\u001b[0m\n",
      "\u001b[32m[I 2022-04-26 09:25:18,873]\u001b[0m Trial 27 finished with value: 0.6876171970618298 and parameters: {'randomforestclassifier__n_estimators': 377, 'randomforestclassifier__max_depth': 767}. Best is trial 10 with value: 0.6935788817642922.\u001b[0m\n",
      "\u001b[32m[I 2022-04-26 09:25:22,169]\u001b[0m Trial 28 finished with value: 0.6833656272922691 and parameters: {'randomforestclassifier__n_estimators': 414, 'randomforestclassifier__max_depth': 779}. Best is trial 10 with value: 0.6935788817642922.\u001b[0m\n",
      "\u001b[32m[I 2022-04-26 09:25:35,178]\u001b[0m Trial 32 finished with value: 0.6855032016166293 and parameters: {'randomforestclassifier__n_estimators': 417, 'randomforestclassifier__max_depth': 822}. Best is trial 10 with value: 0.6935788817642922.\u001b[0m\n",
      "\u001b[32m[I 2022-04-26 09:25:43,235]\u001b[0m Trial 29 finished with value: 0.683368974810514 and parameters: {'randomforestclassifier__n_estimators': 943, 'randomforestclassifier__max_depth': 661}. Best is trial 10 with value: 0.6935788817642922.\u001b[0m\n",
      "\u001b[32m[I 2022-04-26 09:25:48,122]\u001b[0m Trial 31 finished with value: 0.6870383211520493 and parameters: {'randomforestclassifier__n_estimators': 942, 'randomforestclassifier__max_depth': 634}. Best is trial 10 with value: 0.6935788817642922.\u001b[0m\n",
      "\u001b[32m[I 2022-04-26 09:25:48,236]\u001b[0m Trial 30 finished with value: 0.6854754925007797 and parameters: {'randomforestclassifier__n_estimators': 994, 'randomforestclassifier__max_depth': 634}. Best is trial 10 with value: 0.6935788817642922.\u001b[0m\n",
      "\u001b[32m[I 2022-04-26 09:26:05,520]\u001b[0m Trial 33 finished with value: 0.6819669529193849 and parameters: {'randomforestclassifier__n_estimators': 965, 'randomforestclassifier__max_depth': 590}. Best is trial 10 with value: 0.6935788817642922.\u001b[0m\n"
     ]
    },
    {
     "name": "stderr",
     "output_type": "stream",
     "text": [
      "\u001b[32m[I 2022-04-26 09:26:13,342]\u001b[0m Trial 34 finished with value: 0.6874953353290517 and parameters: {'randomforestclassifier__n_estimators': 968, 'randomforestclassifier__max_depth': 584}. Best is trial 10 with value: 0.6935788817642922.\u001b[0m\n",
      "\u001b[32m[I 2022-04-26 09:26:19,012]\u001b[0m Trial 36 finished with value: 0.6866172215985297 and parameters: {'randomforestclassifier__n_estimators': 981, 'randomforestclassifier__max_depth': 557}. Best is trial 10 with value: 0.6935788817642922.\u001b[0m\n",
      "\u001b[32m[I 2022-04-26 09:26:19,325]\u001b[0m Trial 35 finished with value: 0.6888010403158112 and parameters: {'randomforestclassifier__n_estimators': 1000, 'randomforestclassifier__max_depth': 578}. Best is trial 10 with value: 0.6935788817642922.\u001b[0m\n",
      "\u001b[32m[I 2022-04-26 09:26:35,960]\u001b[0m Trial 37 finished with value: 0.6880116631095321 and parameters: {'randomforestclassifier__n_estimators': 985, 'randomforestclassifier__max_depth': 565}. Best is trial 10 with value: 0.6935788817642922.\u001b[0m\n",
      "\u001b[32m[I 2022-04-26 09:26:44,264]\u001b[0m Trial 38 finished with value: 0.6877044497130412 and parameters: {'randomforestclassifier__n_estimators': 997, 'randomforestclassifier__max_depth': 597}. Best is trial 10 with value: 0.6935788817642922.\u001b[0m\n",
      "\u001b[32m[I 2022-04-26 09:26:48,826]\u001b[0m Trial 39 finished with value: 0.6854935613237174 and parameters: {'randomforestclassifier__n_estimators': 958, 'randomforestclassifier__max_depth': 513}. Best is trial 10 with value: 0.6935788817642922.\u001b[0m\n",
      "\u001b[32m[I 2022-04-26 09:26:49,820]\u001b[0m Trial 40 finished with value: 0.6861537067168112 and parameters: {'randomforestclassifier__n_estimators': 978, 'randomforestclassifier__max_depth': 560}. Best is trial 10 with value: 0.6935788817642922.\u001b[0m\n",
      "\u001b[32m[I 2022-04-26 09:27:03,386]\u001b[0m Trial 43 finished with value: 0.6851306132533077 and parameters: {'randomforestclassifier__n_estimators': 469, 'randomforestclassifier__max_depth': 536}. Best is trial 10 with value: 0.6935788817642922.\u001b[0m\n",
      "\u001b[32m[I 2022-04-26 09:27:03,996]\u001b[0m Trial 42 finished with value: 0.6848939266188149 and parameters: {'randomforestclassifier__n_estimators': 633, 'randomforestclassifier__max_depth': 579}. Best is trial 10 with value: 0.6935788817642922.\u001b[0m\n",
      "\u001b[32m[I 2022-04-26 09:27:04,410]\u001b[0m Trial 44 finished with value: 0.6803945738802102 and parameters: {'randomforestclassifier__n_estimators': 470, 'randomforestclassifier__max_depth': 546}. Best is trial 10 with value: 0.6935788817642922.\u001b[0m\n",
      "\u001b[32m[I 2022-04-26 09:27:06,601]\u001b[0m Trial 41 finished with value: 0.6862875130375681 and parameters: {'randomforestclassifier__n_estimators': 982, 'randomforestclassifier__max_depth': 586}. Best is trial 10 with value: 0.6935788817642922.\u001b[0m\n",
      "\u001b[32m[I 2022-04-26 09:27:17,952]\u001b[0m Trial 45 finished with value: 0.6841691668231707 and parameters: {'randomforestclassifier__n_estimators': 480, 'randomforestclassifier__max_depth': 299}. Best is trial 10 with value: 0.6935788817642922.\u001b[0m\n",
      "\u001b[32m[I 2022-04-26 09:27:18,641]\u001b[0m Trial 46 finished with value: 0.6852735129506952 and parameters: {'randomforestclassifier__n_estimators': 477, 'randomforestclassifier__max_depth': 300}. Best is trial 10 with value: 0.6935788817642922.\u001b[0m\n",
      "\u001b[32m[I 2022-04-26 09:27:19,499]\u001b[0m Trial 47 finished with value: 0.6864864380414614 and parameters: {'randomforestclassifier__n_estimators': 488, 'randomforestclassifier__max_depth': 319}. Best is trial 10 with value: 0.6935788817642922.\u001b[0m\n",
      "\u001b[32m[I 2022-04-26 09:27:27,657]\u001b[0m Trial 48 finished with value: 0.6871941558021272 and parameters: {'randomforestclassifier__n_estimators': 682, 'randomforestclassifier__max_depth': 321}. Best is trial 10 with value: 0.6935788817642922.\u001b[0m\n",
      "\u001b[32m[I 2022-04-26 09:27:32,621]\u001b[0m Trial 49 finished with value: 0.6843537647492138 and parameters: {'randomforestclassifier__n_estimators': 475, 'randomforestclassifier__max_depth': 336}. Best is trial 10 with value: 0.6935788817642922.\u001b[0m\n",
      "\u001b[32m[I 2022-04-26 09:27:38,525]\u001b[0m Trial 50 finished with value: 0.6880995930630084 and parameters: {'randomforestclassifier__n_estimators': 641, 'randomforestclassifier__max_depth': 301}. Best is trial 10 with value: 0.6935788817642922.\u001b[0m\n",
      "\u001b[32m[I 2022-04-26 09:27:39,643]\u001b[0m Trial 51 finished with value: 0.6877787743797873 and parameters: {'randomforestclassifier__n_estimators': 650, 'randomforestclassifier__max_depth': 343}. Best is trial 10 with value: 0.6935788817642922.\u001b[0m\n",
      "\u001b[32m[I 2022-04-26 09:27:47,408]\u001b[0m Trial 52 finished with value: 0.6876129060450213 and parameters: {'randomforestclassifier__n_estimators': 638, 'randomforestclassifier__max_depth': 323}. Best is trial 10 with value: 0.6935788817642922.\u001b[0m\n",
      "\u001b[32m[I 2022-04-26 09:27:54,173]\u001b[0m Trial 53 finished with value: 0.6872488824196865 and parameters: {'randomforestclassifier__n_estimators': 700, 'randomforestclassifier__max_depth': 329}. Best is trial 10 with value: 0.6935788817642922.\u001b[0m\n",
      "\u001b[32m[I 2022-04-26 09:28:04,534]\u001b[0m Trial 55 finished with value: 0.6860483677008499 and parameters: {'randomforestclassifier__n_estimators': 800, 'randomforestclassifier__max_depth': 289}. Best is trial 10 with value: 0.6935788817642922.\u001b[0m\n",
      "\u001b[32m[I 2022-04-26 09:28:05,417]\u001b[0m Trial 54 finished with value: 0.6860313930182276 and parameters: {'randomforestclassifier__n_estimators': 862, 'randomforestclassifier__max_depth': 288}. Best is trial 10 with value: 0.6935788817642922.\u001b[0m\n",
      "\u001b[32m[I 2022-04-26 09:28:14,745]\u001b[0m Trial 56 finished with value: 0.6851045720591987 and parameters: {'randomforestclassifier__n_estimators': 867, 'randomforestclassifier__max_depth': 285}. Best is trial 10 with value: 0.6935788817642922.\u001b[0m\n",
      "\u001b[32m[I 2022-04-26 09:28:21,537]\u001b[0m Trial 57 finished with value: 0.6846764432148721 and parameters: {'randomforestclassifier__n_estimators': 864, 'randomforestclassifier__max_depth': 328}. Best is trial 10 with value: 0.6935788817642922.\u001b[0m\n",
      "\u001b[32m[I 2022-04-26 09:28:31,754]\u001b[0m Trial 58 finished with value: 0.6898102088310379 and parameters: {'randomforestclassifier__n_estimators': 844, 'randomforestclassifier__max_depth': 365}. Best is trial 10 with value: 0.6935788817642922.\u001b[0m\n",
      "\u001b[32m[I 2022-04-26 09:28:32,242]\u001b[0m Trial 59 finished with value: 0.6860278065214498 and parameters: {'randomforestclassifier__n_estimators': 825, 'randomforestclassifier__max_depth': 482}. Best is trial 10 with value: 0.6935788817642922.\u001b[0m\n",
      "\u001b[32m[I 2022-04-26 09:28:41,456]\u001b[0m Trial 60 finished with value: 0.6841697104604988 and parameters: {'randomforestclassifier__n_estimators': 816, 'randomforestclassifier__max_depth': 473}. Best is trial 10 with value: 0.6935788817642922.\u001b[0m\n",
      "\u001b[32m[I 2022-04-26 09:28:49,031]\u001b[0m Trial 61 finished with value: 0.6842470425344032 and parameters: {'randomforestclassifier__n_estimators': 839, 'randomforestclassifier__max_depth': 486}. Best is trial 10 with value: 0.6935788817642922.\u001b[0m\n",
      "\u001b[32m[I 2022-04-26 09:28:58,392]\u001b[0m Trial 62 finished with value: 0.687249118395432 and parameters: {'randomforestclassifier__n_estimators': 817, 'randomforestclassifier__max_depth': 224}. Best is trial 10 with value: 0.6935788817642922.\u001b[0m\n",
      "\u001b[32m[I 2022-04-26 09:28:59,178]\u001b[0m Trial 63 finished with value: 0.6845332113569361 and parameters: {'randomforestclassifier__n_estimators': 819, 'randomforestclassifier__max_depth': 474}. Best is trial 10 with value: 0.6935788817642922.\u001b[0m\n",
      "\u001b[32m[I 2022-04-26 09:29:07,292]\u001b[0m Trial 64 finished with value: 0.684525967824726 and parameters: {'randomforestclassifier__n_estimators': 789, 'randomforestclassifier__max_depth': 194}. Best is trial 10 with value: 0.6935788817642922.\u001b[0m\n",
      "\u001b[32m[I 2022-04-26 09:29:16,809]\u001b[0m Trial 65 finished with value: 0.6839643286014055 and parameters: {'randomforestclassifier__n_estimators': 845, 'randomforestclassifier__max_depth': 207}. Best is trial 10 with value: 0.6935788817642922.\u001b[0m\n",
      "\u001b[32m[I 2022-04-26 09:29:21,196]\u001b[0m Trial 69 finished with value: 0.689013620877029 and parameters: {'randomforestclassifier__n_estimators': 123, 'randomforestclassifier__max_depth': 474}. Best is trial 10 with value: 0.6935788817642922.\u001b[0m\n",
      "\u001b[32m[I 2022-04-26 09:29:27,035]\u001b[0m Trial 66 finished with value: 0.6860937463618946 and parameters: {'randomforestclassifier__n_estimators': 873, 'randomforestclassifier__max_depth': 202}. Best is trial 10 with value: 0.6935788817642922.\u001b[0m\n"
     ]
    },
    {
     "name": "stderr",
     "output_type": "stream",
     "text": [
      "\u001b[32m[I 2022-04-26 09:29:29,537]\u001b[0m Trial 67 finished with value: 0.6869340404170831 and parameters: {'randomforestclassifier__n_estimators': 903, 'randomforestclassifier__max_depth': 472}. Best is trial 10 with value: 0.6935788817642922.\u001b[0m\n",
      "\u001b[32m[I 2022-04-26 09:29:32,130]\u001b[0m Trial 68 finished with value: 0.6875774704013705 and parameters: {'randomforestclassifier__n_estimators': 741, 'randomforestclassifier__max_depth': 463}. Best is trial 10 with value: 0.6935788817642922.\u001b[0m\n",
      "\u001b[32m[I 2022-04-26 09:29:46,339]\u001b[0m Trial 70 finished with value: 0.6883576628158216 and parameters: {'randomforestclassifier__n_estimators': 765, 'randomforestclassifier__max_depth': 208}. Best is trial 10 with value: 0.6935788817642922.\u001b[0m\n",
      "\u001b[32m[I 2022-04-26 09:29:50,704]\u001b[0m Trial 71 finished with value: 0.6837349943436455 and parameters: {'randomforestclassifier__n_estimators': 726, 'randomforestclassifier__max_depth': 164}. Best is trial 10 with value: 0.6935788817642922.\u001b[0m\n",
      "\u001b[32m[I 2022-04-26 09:29:54,585]\u001b[0m Trial 72 finished with value: 0.6846300253969059 and parameters: {'randomforestclassifier__n_estimators': 755, 'randomforestclassifier__max_depth': 398}. Best is trial 10 with value: 0.6935788817642922.\u001b[0m\n",
      "\u001b[32m[I 2022-04-26 09:30:02,080]\u001b[0m Trial 73 finished with value: 0.6846536833655988 and parameters: {'randomforestclassifier__n_estimators': 921, 'randomforestclassifier__max_depth': 183}. Best is trial 10 with value: 0.6935788817642922.\u001b[0m\n",
      "\u001b[32m[I 2022-04-26 09:30:11,462]\u001b[0m Trial 74 finished with value: 0.6870880684859273 and parameters: {'randomforestclassifier__n_estimators': 756, 'randomforestclassifier__max_depth': 425}. Best is trial 10 with value: 0.6935788817642922.\u001b[0m\n",
      "\u001b[32m[I 2022-04-26 09:30:15,399]\u001b[0m Trial 78 finished with value: 0.684444353946381 and parameters: {'randomforestclassifier__n_estimators': 114, 'randomforestclassifier__max_depth': 388}. Best is trial 10 with value: 0.6935788817642922.\u001b[0m\n",
      "\u001b[32m[I 2022-04-26 09:30:15,809]\u001b[0m Trial 75 finished with value: 0.6851550065967511 and parameters: {'randomforestclassifier__n_estimators': 758, 'randomforestclassifier__max_depth': 379}. Best is trial 10 with value: 0.6935788817642922.\u001b[0m\n",
      "\u001b[32m[I 2022-04-26 09:30:18,233]\u001b[0m Trial 79 finished with value: 0.6869024109751415 and parameters: {'randomforestclassifier__n_estimators': 80, 'randomforestclassifier__max_depth': 428}. Best is trial 10 with value: 0.6935788817642922.\u001b[0m\n",
      "\u001b[32m[I 2022-04-26 09:30:20,566]\u001b[0m Trial 80 finished with value: 0.6907608832800493 and parameters: {'randomforestclassifier__n_estimators': 138, 'randomforestclassifier__max_depth': 410}. Best is trial 10 with value: 0.6935788817642922.\u001b[0m\n",
      "\u001b[32m[I 2022-04-26 09:30:23,101]\u001b[0m Trial 81 finished with value: 0.6871844517010781 and parameters: {'randomforestclassifier__n_estimators': 143, 'randomforestclassifier__max_depth': 416}. Best is trial 10 with value: 0.6935788817642922.\u001b[0m\n",
      "\u001b[32m[I 2022-04-26 09:30:24,485]\u001b[0m Trial 76 finished with value: 0.6822447835809405 and parameters: {'randomforestclassifier__n_estimators': 904, 'randomforestclassifier__max_depth': 390}. Best is trial 10 with value: 0.6935788817642922.\u001b[0m\n",
      "\u001b[32m[I 2022-04-26 09:30:24,871]\u001b[0m Trial 82 finished with value: 0.6876804266997532 and parameters: {'randomforestclassifier__n_estimators': 125, 'randomforestclassifier__max_depth': 376}. Best is trial 10 with value: 0.6935788817642922.\u001b[0m\n",
      "\u001b[32m[I 2022-04-26 09:30:27,773]\u001b[0m Trial 83 finished with value: 0.6822640049692551 and parameters: {'randomforestclassifier__n_estimators': 137, 'randomforestclassifier__max_depth': 417}. Best is trial 10 with value: 0.6935788817642922.\u001b[0m\n",
      "\u001b[32m[I 2022-04-26 09:30:28,931]\u001b[0m Trial 85 finished with value: 0.6906731017563404 and parameters: {'randomforestclassifier__n_estimators': 118, 'randomforestclassifier__max_depth': 428}. Best is trial 10 with value: 0.6935788817642922.\u001b[0m\n",
      "\u001b[32m[I 2022-04-26 09:30:29,681]\u001b[0m Trial 84 finished with value: 0.6848750831831268 and parameters: {'randomforestclassifier__n_estimators': 151, 'randomforestclassifier__max_depth': 397}. Best is trial 10 with value: 0.6935788817642922.\u001b[0m\n",
      "\u001b[32m[I 2022-04-26 09:30:32,073]\u001b[0m Trial 86 finished with value: 0.6851300094801501 and parameters: {'randomforestclassifier__n_estimators': 124, 'randomforestclassifier__max_depth': 382}. Best is trial 10 with value: 0.6935788817642922.\u001b[0m\n",
      "\u001b[32m[I 2022-04-26 09:30:32,336]\u001b[0m Trial 77 finished with value: 0.6854517763145408 and parameters: {'randomforestclassifier__n_estimators': 915, 'randomforestclassifier__max_depth': 401}. Best is trial 10 with value: 0.6935788817642922.\u001b[0m\n",
      "\u001b[32m[I 2022-04-26 09:30:34,227]\u001b[0m Trial 87 finished with value: 0.6829543900473661 and parameters: {'randomforestclassifier__n_estimators': 157, 'randomforestclassifier__max_depth': 253}. Best is trial 10 with value: 0.6935788817642922.\u001b[0m\n",
      "\u001b[32m[I 2022-04-26 09:30:36,714]\u001b[0m Trial 90 finished with value: 0.6510908422061422 and parameters: {'randomforestclassifier__n_estimators': 263, 'randomforestclassifier__max_depth': 37}. Best is trial 10 with value: 0.6935788817642922.\u001b[0m\n",
      "\u001b[32m[I 2022-04-26 09:30:36,947]\u001b[0m Trial 88 finished with value: 0.6828699145660663 and parameters: {'randomforestclassifier__n_estimators': 228, 'randomforestclassifier__max_depth': 135}. Best is trial 10 with value: 0.6935788817642922.\u001b[0m\n",
      "\u001b[32m[I 2022-04-26 09:30:39,040]\u001b[0m Trial 93 finished with value: 0.6862496421163332 and parameters: {'randomforestclassifier__n_estimators': 59, 'randomforestclassifier__max_depth': 874}. Best is trial 10 with value: 0.6935788817642922.\u001b[0m\n",
      "\u001b[32m[I 2022-04-26 09:30:40,561]\u001b[0m Trial 89 finished with value: 0.6900565359809229 and parameters: {'randomforestclassifier__n_estimators': 256, 'randomforestclassifier__max_depth': 903}. Best is trial 10 with value: 0.6935788817642922.\u001b[0m\n",
      "\u001b[32m[I 2022-04-26 09:30:42,152]\u001b[0m Trial 91 finished with value: 0.6857189398421291 and parameters: {'randomforestclassifier__n_estimators': 237, 'randomforestclassifier__max_depth': 251}. Best is trial 10 with value: 0.6935788817642922.\u001b[0m\n",
      "\u001b[32m[I 2022-04-26 09:30:43,758]\u001b[0m Trial 96 finished with value: 0.5679725311380465 and parameters: {'randomforestclassifier__n_estimators': 208, 'randomforestclassifier__max_depth': 17}. Best is trial 10 with value: 0.6935788817642922.\u001b[0m\n",
      "\u001b[32m[I 2022-04-26 09:30:48,993]\u001b[0m Trial 94 finished with value: 0.689008583634153 and parameters: {'randomforestclassifier__n_estimators': 287, 'randomforestclassifier__max_depth': 890}. Best is trial 10 with value: 0.6935788817642922.\u001b[0m\n",
      "\u001b[32m[I 2022-04-26 09:30:50,426]\u001b[0m Trial 95 finished with value: 0.6844696033999528 and parameters: {'randomforestclassifier__n_estimators': 283, 'randomforestclassifier__max_depth': 873}. Best is trial 10 with value: 0.6935788817642922.\u001b[0m\n",
      "\u001b[32m[I 2022-04-26 09:30:52,444]\u001b[0m Trial 97 finished with value: 0.6868924255682752 and parameters: {'randomforestclassifier__n_estimators': 247, 'randomforestclassifier__max_depth': 515}. Best is trial 10 with value: 0.6935788817642922.\u001b[0m\n",
      "\u001b[32m[I 2022-04-26 09:30:56,863]\u001b[0m Trial 92 finished with value: 0.6844428074641625 and parameters: {'randomforestclassifier__n_estimators': 593, 'randomforestclassifier__max_depth': 247}. Best is trial 10 with value: 0.6935788817642922.\u001b[0m\n",
      "\u001b[32m[I 2022-04-26 09:30:57,638]\u001b[0m Trial 98 finished with value: 0.6913788025249185 and parameters: {'randomforestclassifier__n_estimators': 254, 'randomforestclassifier__max_depth': 503}. Best is trial 10 with value: 0.6935788817642922.\u001b[0m\n",
      "\u001b[32m[I 2022-04-26 09:30:58,272]\u001b[0m Trial 99 finished with value: 0.6850188734987563 and parameters: {'randomforestclassifier__n_estimators': 241, 'randomforestclassifier__max_depth': 509}. Best is trial 10 with value: 0.6935788817642922.\u001b[0m\n"
     ]
    }
   ],
   "source": [
    "def objective(trial,x_train,y_train):\n",
    "    n = trial.suggest_int('randomforestclassifier__n_estimators',10,1000)\n",
    "    md = trial.suggest_int('randomforestclassifier__max_depth',10,1000)\n",
    "    model = make_pipeline(TfidfVectorizer(min_df=0.001),RandomForestClassifier(n_estimators=n, max_depth=md))\n",
    "    score = cross_val_score(model,x_train,y_train,n_jobs=-1,cv=3,scoring='f1_macro')\n",
    "    ap = score.mean()\n",
    "    return ap\n",
    "\n",
    "study = optuna.create_study(direction='maximize',study_name='xgb')\n",
    "func = lambda trial: objective(trial, x_train, y_train)\n",
    "study.optimize(func,n_trials=100,n_jobs=-1)"
   ]
  },
  {
   "cell_type": "code",
   "execution_count": 16,
   "id": "9b365819",
   "metadata": {},
   "outputs": [
    {
     "name": "stdout",
     "output_type": "stream",
     "text": [
      "Train : \n",
      "               precision    recall  f1-score   support\n",
      "\n",
      "        -1.0       0.94      1.00      0.97      1778\n",
      "         0.0       1.00      0.93      0.96      2553\n",
      "         1.0       0.98      1.00      0.99      3895\n",
      "\n",
      "    accuracy                           0.98      8226\n",
      "   macro avg       0.97      0.98      0.97      8226\n",
      "weighted avg       0.98      0.98      0.98      8226\n",
      "\n",
      "Test : \n",
      "               precision    recall  f1-score   support\n",
      "\n",
      "        -1.0       0.40      0.84      0.54       225\n",
      "         0.0       0.78      0.76      0.77       594\n",
      "         1.0       0.89      0.72      0.80      1238\n",
      "\n",
      "    accuracy                           0.75      2057\n",
      "   macro avg       0.69      0.78      0.71      2057\n",
      "weighted avg       0.81      0.75      0.76      2057\n",
      "\n"
     ]
    }
   ],
   "source": [
    "train_pred = rfc_pipeline.predict(x_train)\n",
    "test_pred = rfc_pipeline.predict(x_test)\n",
    "print('Train : \\n',classification_report(train_pred,y_train))\n",
    "print('Test : \\n',classification_report(test_pred,y_test))"
   ]
  }
 ],
 "metadata": {
  "kernelspec": {
   "display_name": "Python 3 (ipykernel)",
   "language": "python",
   "name": "python3"
  },
  "language_info": {
   "codemirror_mode": {
    "name": "ipython",
    "version": 3
   },
   "file_extension": ".py",
   "mimetype": "text/x-python",
   "name": "python",
   "nbconvert_exporter": "python",
   "pygments_lexer": "ipython3",
   "version": "3.9.7"
  }
 },
 "nbformat": 4,
 "nbformat_minor": 5
}
