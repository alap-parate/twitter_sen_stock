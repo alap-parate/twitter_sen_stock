{
 "cells": [
  {
   "cell_type": "code",
   "execution_count": 158,
   "id": "f74c21d1",
   "metadata": {},
   "outputs": [],
   "source": [
    "import pandas as pd\n",
    "import numpy as np\n",
    "import matplotlib.pyplot as plt\n",
    "import seaborn as sns\n",
    "from sklearn.model_selection import *\n",
    "from sklearn.feature_extraction.text import CountVectorizer, TfidfVectorizer\n",
    "from sklearn.svm import LinearSVC,SVC\n",
    "from sklearn.linear_model import LogisticRegression\n",
    "from xgboost import XGBClassifier\n",
    "from sklearn.metrics import *\n",
    "import sklearn.metrics as metrics\n",
    "from yellowbrick.classifier import ROCAUC,PrecisionRecallCurve\n",
    "from sklearn.pipeline import make_pipeline"
   ]
  },
  {
   "cell_type": "code",
   "execution_count": 159,
   "id": "61ba751c",
   "metadata": {},
   "outputs": [],
   "source": [
    "data = pd.read_csv(\"sentimental_data.csv\")"
   ]
  },
  {
   "cell_type": "code",
   "execution_count": 160,
   "id": "4a57c078",
   "metadata": {},
   "outputs": [
    {
     "data": {
      "text/html": [
       "<div>\n",
       "<style scoped>\n",
       "    .dataframe tbody tr th:only-of-type {\n",
       "        vertical-align: middle;\n",
       "    }\n",
       "\n",
       "    .dataframe tbody tr th {\n",
       "        vertical-align: top;\n",
       "    }\n",
       "\n",
       "    .dataframe thead th {\n",
       "        text-align: right;\n",
       "    }\n",
       "</style>\n",
       "<table border=\"1\" class=\"dataframe\">\n",
       "  <thead>\n",
       "    <tr style=\"text-align: right;\">\n",
       "      <th></th>\n",
       "      <th>tweet</th>\n",
       "      <th>time</th>\n",
       "      <th>polarity</th>\n",
       "    </tr>\n",
       "  </thead>\n",
       "  <tbody>\n",
       "    <tr>\n",
       "      <th>0</th>\n",
       "      <td>stock markets script ready for 2022 everything...</td>\n",
       "      <td>2022-01-01T05:08:15.000Z</td>\n",
       "      <td>1.0</td>\n",
       "    </tr>\n",
       "    <tr>\n",
       "      <th>1</th>\n",
       "      <td>to get rid of excessive greed always think for...</td>\n",
       "      <td>2022-01-01T05:08:15.000Z</td>\n",
       "      <td>1.0</td>\n",
       "    </tr>\n",
       "    <tr>\n",
       "      <th>2</th>\n",
       "      <td>lessons from 2021 stock market paisa acche equ...</td>\n",
       "      <td>2022-01-01T05:08:15.000Z</td>\n",
       "      <td>0.0</td>\n",
       "    </tr>\n",
       "    <tr>\n",
       "      <th>3</th>\n",
       "      <td>good morning my state of mind as per nifty lev...</td>\n",
       "      <td>2022-01-01T05:08:15.000Z</td>\n",
       "      <td>1.0</td>\n",
       "    </tr>\n",
       "    <tr>\n",
       "      <th>4</th>\n",
       "      <td>wishing you all very happy new year may this y...</td>\n",
       "      <td>2022-01-01T05:08:15.000Z</td>\n",
       "      <td>1.0</td>\n",
       "    </tr>\n",
       "  </tbody>\n",
       "</table>\n",
       "</div>"
      ],
      "text/plain": [
       "                                               tweet  \\\n",
       "0  stock markets script ready for 2022 everything...   \n",
       "1  to get rid of excessive greed always think for...   \n",
       "2  lessons from 2021 stock market paisa acche equ...   \n",
       "3  good morning my state of mind as per nifty lev...   \n",
       "4  wishing you all very happy new year may this y...   \n",
       "\n",
       "                       time  polarity  \n",
       "0  2022-01-01T05:08:15.000Z       1.0  \n",
       "1  2022-01-01T05:08:15.000Z       1.0  \n",
       "2  2022-01-01T05:08:15.000Z       0.0  \n",
       "3  2022-01-01T05:08:15.000Z       1.0  \n",
       "4  2022-01-01T05:08:15.000Z       1.0  "
      ]
     },
     "execution_count": 160,
     "metadata": {},
     "output_type": "execute_result"
    }
   ],
   "source": [
    "data.head()"
   ]
  },
  {
   "cell_type": "code",
   "execution_count": 161,
   "id": "10ffcbd6",
   "metadata": {},
   "outputs": [],
   "source": [
    "data.drop(\"time\",inplace=True,axis=1)"
   ]
  },
  {
   "cell_type": "code",
   "execution_count": 162,
   "id": "83ad39ca",
   "metadata": {},
   "outputs": [
    {
     "data": {
      "text/html": [
       "<div>\n",
       "<style scoped>\n",
       "    .dataframe tbody tr th:only-of-type {\n",
       "        vertical-align: middle;\n",
       "    }\n",
       "\n",
       "    .dataframe tbody tr th {\n",
       "        vertical-align: top;\n",
       "    }\n",
       "\n",
       "    .dataframe thead th {\n",
       "        text-align: right;\n",
       "    }\n",
       "</style>\n",
       "<table border=\"1\" class=\"dataframe\">\n",
       "  <thead>\n",
       "    <tr style=\"text-align: right;\">\n",
       "      <th></th>\n",
       "      <th>tweet</th>\n",
       "      <th>polarity</th>\n",
       "    </tr>\n",
       "  </thead>\n",
       "  <tbody>\n",
       "    <tr>\n",
       "      <th>0</th>\n",
       "      <td>stock markets script ready for 2022 everything...</td>\n",
       "      <td>1.0</td>\n",
       "    </tr>\n",
       "    <tr>\n",
       "      <th>1</th>\n",
       "      <td>to get rid of excessive greed always think for...</td>\n",
       "      <td>1.0</td>\n",
       "    </tr>\n",
       "    <tr>\n",
       "      <th>2</th>\n",
       "      <td>lessons from 2021 stock market paisa acche equ...</td>\n",
       "      <td>0.0</td>\n",
       "    </tr>\n",
       "    <tr>\n",
       "      <th>3</th>\n",
       "      <td>good morning my state of mind as per nifty lev...</td>\n",
       "      <td>1.0</td>\n",
       "    </tr>\n",
       "    <tr>\n",
       "      <th>4</th>\n",
       "      <td>wishing you all very happy new year may this y...</td>\n",
       "      <td>1.0</td>\n",
       "    </tr>\n",
       "  </tbody>\n",
       "</table>\n",
       "</div>"
      ],
      "text/plain": [
       "                                               tweet  polarity\n",
       "0  stock markets script ready for 2022 everything...       1.0\n",
       "1  to get rid of excessive greed always think for...       1.0\n",
       "2  lessons from 2021 stock market paisa acche equ...       0.0\n",
       "3  good morning my state of mind as per nifty lev...       1.0\n",
       "4  wishing you all very happy new year may this y...       1.0"
      ]
     },
     "execution_count": 162,
     "metadata": {},
     "output_type": "execute_result"
    }
   ],
   "source": [
    "data.head()"
   ]
  },
  {
   "cell_type": "code",
   "execution_count": 163,
   "id": "92893ed0",
   "metadata": {},
   "outputs": [
    {
     "data": {
      "text/plain": [
       "array([ 1.,  0., -1.])"
      ]
     },
     "execution_count": 163,
     "metadata": {},
     "output_type": "execute_result"
    }
   ],
   "source": [
    "pd.unique(data[\"polarity\"])"
   ]
  },
  {
   "cell_type": "code",
   "execution_count": 164,
   "id": "aefdbc69",
   "metadata": {},
   "outputs": [
    {
     "data": {
      "text/plain": [
       "tweet        object\n",
       "polarity    float64\n",
       "dtype: object"
      ]
     },
     "execution_count": 164,
     "metadata": {},
     "output_type": "execute_result"
    }
   ],
   "source": [
    "data.dtypes"
   ]
  },
  {
   "cell_type": "code",
   "execution_count": 165,
   "id": "9ea5a7b6",
   "metadata": {},
   "outputs": [
    {
     "data": {
      "text/plain": [
       "<AxesSubplot:xlabel='polarity', ylabel='count'>"
      ]
     },
     "execution_count": 165,
     "metadata": {},
     "output_type": "execute_result"
    },
    {
     "data": {
      "image/png": "[encoded data removed]",
      "text/plain": [
       "<Figure size 576x396 with 1 Axes>"
      ]
     },
     "metadata": {},
     "output_type": "display_data"
    }
   ],
   "source": [
    "sns.countplot(x = data[\"polarity\"],data = data)"
   ]
  },
  {
   "cell_type": "code",
   "execution_count": 166,
   "id": "91048873",
   "metadata": {},
   "outputs": [],
   "source": [
    "X = data[\"tweet\"]\n",
    "Y = data[\"polarity\"]"
   ]
  },
  {
   "cell_type": "code",
   "execution_count": 167,
   "id": "9ba09d1a",
   "metadata": {},
   "outputs": [],
   "source": [
    "cv = CountVectorizer(min_df = 2)\n",
    "X = cv.fit_transform(data[\"tweet\"])"
   ]
  },
  {
   "cell_type": "code",
   "execution_count": 168,
   "id": "cc8b68ff",
   "metadata": {},
   "outputs": [
    {
     "data": {
      "text/plain": [
       "<10283x7985 sparse matrix of type '<class 'numpy.int64'>'\n",
       "\twith 180011 stored elements in Compressed Sparse Row format>"
      ]
     },
     "execution_count": 168,
     "metadata": {},
     "output_type": "execute_result"
    }
   ],
   "source": [
    "X"
   ]
  },
  {
   "cell_type": "code",
   "execution_count": 169,
   "id": "1290c73f",
   "metadata": {},
   "outputs": [],
   "source": [
    "x_train,x_test,y_train,y_test = train_test_split(X,Y,test_size=0.2,random_state=111)"
   ]
  },
  {
   "cell_type": "code",
   "execution_count": 170,
   "id": "3b1e5a27",
   "metadata": {},
   "outputs": [
    {
     "name": "stdout",
     "output_type": "stream",
     "text": [
      "Train Performance:\n",
      "              precision    recall  f1-score   support\n",
      "\n",
      "        -1.0       0.99      0.96      0.97      1856\n",
      "         0.0       0.97      0.99      0.98      2410\n",
      "         1.0       0.99      0.99      0.99      3960\n",
      "\n",
      "    accuracy                           0.98      8226\n",
      "   macro avg       0.98      0.98      0.98      8226\n",
      "weighted avg       0.98      0.98      0.98      8226\n",
      "\n",
      "Test Performance:\n",
      "              precision    recall  f1-score   support\n",
      "\n",
      "        -1.0       0.78      0.67      0.72       498\n",
      "         0.0       0.78      0.92      0.84       540\n",
      "         1.0       0.88      0.86      0.87      1019\n",
      "\n",
      "    accuracy                           0.83      2057\n",
      "   macro avg       0.81      0.81      0.81      2057\n",
      "weighted avg       0.83      0.83      0.83      2057\n",
      "\n"
     ]
    }
   ],
   "source": [
    "model = LogisticRegression(max_iter=1000)\n",
    "model.fit(x_train,y_train)\n",
    "\n",
    "y_train_proba = model.predict_proba(x_train)[:,1]\n",
    "y_test_proba = model.predict_proba(x_test)[:,1]\n",
    "\n",
    "y_train_pred = model.predict(x_train)\n",
    "y_test_pred = model.predict(x_test)\n",
    "\n",
    "print(\"Train Performance:\")\n",
    "print(classification_report(y_train,y_train_pred))\n",
    "print(\"Test Performance:\")\n",
    "print(classification_report(y_test,y_test_pred))"
   ]
  },
  {
   "cell_type": "code",
   "execution_count": 171,
   "id": "1dc4f792",
   "metadata": {},
   "outputs": [],
   "source": [
    "def plot_ROC_curve(model, xtrain, ytrain, xtest, ytest):\n",
    "\n",
    "    # Creating visualization with the readable labels\n",
    "    visualizer = ROCAUC(model, encoder={-1: 'negative tweets', \n",
    "                                        0: 'neutral', \n",
    "                                        1: 'positive tweets'})\n",
    "                                        \n",
    "    # Fitting to the training data first then scoring with the test data                                    \n",
    "    visualizer.fit(xtrain, ytrain)\n",
    "    visualizer.score(xtest, ytest)\n",
    "    visualizer.show()\n",
    "    \n",
    "    return visualizer"
   ]
  },
  {
   "cell_type": "code",
   "execution_count": 172,
   "id": "2c988260",
   "metadata": {},
   "outputs": [
    {
     "data": {
      "image/png": "[encoded data removed]",
      "text/plain": [
       "<Figure size 576x396 with 1 Axes>"
      ]
     },
     "metadata": {},
     "output_type": "display_data"
    },
    {
     "data": {
      "text/plain": [
       "ROCAUC(ax=<AxesSubplot:title={'center':'ROC Curves for LogisticRegression'}, xlabel='False Positive Rate', ylabel='True Positive Rate'>,\n",
       "       encoder={-1: 'negative tweets', 0: 'neutral', 1: 'positive tweets'},\n",
       "       estimator=LogisticRegression(max_iter=1000))"
      ]
     },
     "execution_count": 172,
     "metadata": {},
     "output_type": "execute_result"
    }
   ],
   "source": [
    "plot_ROC_curve(model, x_train, y_train, x_test, y_test)"
   ]
  },
  {
   "cell_type": "code",
   "execution_count": 173,
   "id": "662fdb6d",
   "metadata": {},
   "outputs": [
    {
     "name": "stderr",
     "output_type": "stream",
     "text": [
      "C:\\anaconda3\\lib\\site-packages\\xgboost\\sklearn.py:1224: UserWarning: The use of label encoder in XGBClassifier is deprecated and will be removed in a future release. To remove this warning, do the following: 1) Pass option use_label_encoder=False when constructing XGBClassifier object; and 2) Encode your labels (y) as integers starting with 0, i.e. 0, 1, 2, ..., [num_class - 1].\n",
      "  warnings.warn(label_encoder_deprecation_msg, UserWarning)\n"
     ]
    },
    {
     "name": "stdout",
     "output_type": "stream",
     "text": [
      "[12:19:10] WARNING: C:/Users/Administrator/workspace/xgboost-win64_release_1.5.1/src/learner.cc:1115: Starting in XGBoost 1.3.0, the default evaluation metric used with the objective 'multi:softprob' was changed from 'merror' to 'mlogloss'. Explicitly set eval_metric if you'd like to restore the old behavior.\n",
      "Train Performance:\n",
      "              precision    recall  f1-score   support\n",
      "\n",
      "        -1.0       0.96      0.79      0.87      1856\n",
      "         0.0       0.82      0.99      0.90      2410\n",
      "         1.0       0.95      0.92      0.93      3960\n",
      "\n",
      "    accuracy                           0.91      8226\n",
      "   macro avg       0.91      0.90      0.90      8226\n",
      "weighted avg       0.92      0.91      0.91      8226\n",
      "\n",
      "Test Performance:\n",
      "              precision    recall  f1-score   support\n",
      "\n",
      "        -1.0       0.82      0.65      0.73       498\n",
      "         0.0       0.76      0.94      0.84       540\n",
      "         1.0       0.87      0.85      0.86      1019\n",
      "\n",
      "    accuracy                           0.83      2057\n",
      "   macro avg       0.82      0.81      0.81      2057\n",
      "weighted avg       0.83      0.83      0.82      2057\n",
      "\n"
     ]
    }
   ],
   "source": [
    "model1 = XGBClassifier(tree_method='gpu_hist',gpu_id=0,n_jobs=-1)\n",
    "model1.fit(x_train,y_train)\n",
    "\n",
    "y_train_proba = model1.predict_proba(x_train)[:,1]\n",
    "y_test_proba = model1.predict_proba(x_test)[:,1]\n",
    "\n",
    "y_train_pred = model1.predict(x_train)\n",
    "y_test_pred = model1.predict(x_test)\n",
    "\n",
    "print(\"Train Performance:\")\n",
    "print(classification_report(y_train,y_train_pred))\n",
    "print(\"Test Performance:\")\n",
    "print(classification_report(y_test,y_test_pred))"
   ]
  },
  {
   "cell_type": "code",
   "execution_count": 174,
   "id": "e2a8520a",
   "metadata": {},
   "outputs": [
    {
     "ename": "NameError",
     "evalue": "name 'plot_ROC_acurve' is not defined",
     "output_type": "error",
     "traceback": [
      "\u001b[1;31m---------------------------------------------------------------------------\u001b[0m",
      "\u001b[1;31mNameError\u001b[0m                                 Traceback (most recent call last)",
      "Input \u001b[1;32mIn [174]\u001b[0m, in \u001b[0;36m<cell line: 1>\u001b[1;34m()\u001b[0m\n\u001b[1;32m----> 1\u001b[0m \u001b[43mplot_ROC_acurve\u001b[49m(model1, x_train, y_train, x_test, y_test)\n\u001b[0;32m      2\u001b[0m plt\u001b[38;5;241m.\u001b[39mshow()\n",
      "\u001b[1;31mNameError\u001b[0m: name 'plot_ROC_acurve' is not defined"
     ]
    }
   ],
   "source": [
    "plot_ROC_acurve(model1, x_train, y_train, x_test, y_test)\n",
    "plt.show()"
   ]
  },
  {
   "cell_type": "code",
   "execution_count": null,
   "id": "2921dbcc",
   "metadata": {},
   "outputs": [],
   "source": [
    "model2= LinearSVC(class_weight=\"balanced\")\n",
    "model2.fit(x_train,y_train)\n",
    "\n",
    "y_train_pred = model2.predict(x_train)\n",
    "y_test_pred = model2.predict(x_test)\n",
    "\n",
    "print(\"Train Performance:\")\n",
    "print(classification_report(y_train,y_train_pred))\n",
    "print(\"Test Performance:\")\n",
    "print(classification_report(y_test,y_test_pred))"
   ]
  },
  {
   "cell_type": "markdown",
   "id": "cf51eefc",
   "metadata": {},
   "source": [
    "### Balancing Dataset"
   ]
  },
  {
   "cell_type": "code",
   "execution_count": null,
   "id": "76f37973",
   "metadata": {},
   "outputs": [],
   "source": [
    "from imblearn.over_sampling import *\n",
    "from imblearn.pipeline import *"
   ]
  },
  {
   "cell_type": "code",
   "execution_count": null,
   "id": "02c5c3cb",
   "metadata": {},
   "outputs": [],
   "source": [
    "model3 = make_pipeline(RandomOverSampler(),XGBClassifier(tree_method='gpu_hist',gpu_id=0))\n",
    "model3.fit(x_train,y_train)\n",
    "\n",
    "y_train_proba = model3.predict_proba(x_train)[:,1]\n",
    "y_test_proba = model3.predict_proba(x_test)[:,1]\n",
    "\n",
    "y_train_pred = model3.predict(x_train)\n",
    "y_test_pred = model3.predict(x_test)\n",
    "\n",
    "print(\"Train Performance:\")\n",
    "print(classification_report(y_train,y_train_pred))\n",
    "print(\"Test Performance:\")\n",
    "print(classification_report(y_test,y_test_pred))"
   ]
  },
  {
   "cell_type": "code",
   "execution_count": null,
   "id": "65348021",
   "metadata": {},
   "outputs": [],
   "source": [
    "model4 = make_pipeline(RandomOverSampler(sampling_strategy={-1:4000,0:4000}),LinearSVC(class_weight=\"balanced\"))\n",
    "model4.fit(x_train,y_train)\n",
    "\n",
    "y_train_pred = model4.predict(x_train)\n",
    "y_test_pred = model4.predict(x_test)\n",
    "\n",
    "print(\"Train Performance:\")\n",
    "print(classification_report(y_train,y_train_pred))\n",
    "print(\"Test Performance:\")\n",
    "print(classification_report(y_test,y_test_pred))"
   ]
  },
  {
   "cell_type": "markdown",
   "id": "29e42115",
   "metadata": {},
   "source": [
    "### As balancing the data set does not make much difference model1 xgboost classifier to be taken."
   ]
  },
  {
   "cell_type": "code",
   "execution_count": 175,
   "id": "65654e40",
   "metadata": {},
   "outputs": [],
   "source": [
    "import pickle"
   ]
  },
  {
   "cell_type": "code",
   "execution_count": 176,
   "id": "85e954f7",
   "metadata": {},
   "outputs": [],
   "source": [
    "with open('transform.pkl', 'wb') as files:\n",
    "    pickle.dump(cv, files)"
   ]
  },
  {
   "cell_type": "code",
   "execution_count": 177,
   "id": "2b569bf7",
   "metadata": {},
   "outputs": [],
   "source": [
    "with open('model_xgb.pkl', 'wb') as files:\n",
    "    pickle.dump(model1, files)"
   ]
  },
  {
   "cell_type": "code",
   "execution_count": 179,
   "id": "6a5e9ecf",
   "metadata": {},
   "outputs": [],
   "source": [
    "model = pickle.load(open(\"./model_xgb.pkl\",\"rb\"))\n",
    "vectorizer = pickle.load(open(\"./transform.pkl\",\"rb\"))"
   ]
  },
  {
   "cell_type": "code",
   "execution_count": 184,
   "id": "271bc3a7",
   "metadata": {},
   "outputs": [],
   "source": [
    "pred = model.predict(vectorizer.transform([\"incured heavy losses today, not good\"]))[0]"
   ]
  },
  {
   "cell_type": "code",
   "execution_count": 202,
   "id": "2e9caaf0",
   "metadata": {},
   "outputs": [],
   "source": [
    "vect = vectorizer.transform(['really like grow up'])"
   ]
  },
  {
   "cell_type": "code",
   "execution_count": 203,
   "id": "db17fa99",
   "metadata": {},
   "outputs": [
    {
     "data": {
      "text/plain": [
       "<1x7985 sparse matrix of type '<class 'numpy.int64'>'\n",
       "\twith 4 stored elements in Compressed Sparse Row format>"
      ]
     },
     "execution_count": 203,
     "metadata": {},
     "output_type": "execute_result"
    }
   ],
   "source": [
    "vect"
   ]
  },
  {
   "cell_type": "code",
   "execution_count": 205,
   "id": "35ad8041",
   "metadata": {},
   "outputs": [],
   "source": [
    "sentiments = {0:'neutral', 1:'positive', -1:'negative'}"
   ]
  },
  {
   "cell_type": "code",
   "execution_count": 1,
   "id": "0c778fe6",
   "metadata": {},
   "outputs": [],
   "source": [
    "import requests"
   ]
  },
  {
   "cell_type": "code",
   "execution_count": 10,
   "id": "22b073a3",
   "metadata": {},
   "outputs": [],
   "source": [
    "tweet = \"omicron is highly contagious but not dangerous like delta the market has most probably sensed that there won t be any serious damage because of omicron the fall from 17500 to 16410 was mostly the omicron damage alone\""
   ]
  },
  {
   "cell_type": "code",
   "execution_count": 13,
   "id": "add13970",
   "metadata": {},
   "outputs": [],
   "source": [
    "keys = {\"tweet\": tweet}"
   ]
  },
  {
   "cell_type": "code",
   "execution_count": 14,
   "id": "4e3d3780",
   "metadata": {},
   "outputs": [],
   "source": [
    "prediction = requests.get(\"http://127.0.0.1:8000/predict/\", params=keys)"
   ]
  },
  {
   "cell_type": "code",
   "execution_count": 17,
   "id": "3f521ead",
   "metadata": {},
   "outputs": [
    {
     "data": {
      "text/plain": [
       "<Response [200]>"
      ]
     },
     "execution_count": 17,
     "metadata": {},
     "output_type": "execute_result"
    }
   ],
   "source": [
    "prediction"
   ]
  },
  {
   "cell_type": "code",
   "execution_count": 15,
   "id": "a2141b87",
   "metadata": {},
   "outputs": [],
   "source": [
    "op = prediction.json()"
   ]
  },
  {
   "cell_type": "code",
   "execution_count": 16,
   "id": "81eba7da",
   "metadata": {},
   "outputs": [
    {
     "data": {
      "text/plain": [
       "{'prediction': 'negative'}"
      ]
     },
     "execution_count": 16,
     "metadata": {},
     "output_type": "execute_result"
    }
   ],
   "source": [
    "op"
   ]
  }
 ],
 "metadata": {
  "kernelspec": {
   "display_name": "Python 3 (ipykernel)",
   "language": "python",
   "name": "python3"
  },
  "language_info": {
   "codemirror_mode": {
    "name": "ipython",
    "version": 3
   },
   "file_extension": ".py",
   "mimetype": "text/x-python",
   "name": "python",
   "nbconvert_exporter": "python",
   "pygments_lexer": "ipython3",
   "version": "3.9.7"
  }
 },
 "nbformat": 4,
 "nbformat_minor": 5
}
